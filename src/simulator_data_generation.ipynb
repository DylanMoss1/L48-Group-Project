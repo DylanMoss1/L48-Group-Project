{
 "cells": [
  {
   "cell_type": "code",
   "execution_count": 23,
   "id": "e41975c3-644b-42ef-b8cf-c052ba6f23df",
   "metadata": {},
   "outputs": [],
   "source": [
    "import numpy as np\n",
    "from emukit.core.initial_designs.latin_design import LatinDesign\n",
    "from emukit.core import ParameterSpace, ContinuousParameter\n",
    "from simulator import MainSimulator\n",
    "from tqdm import tqdm\n",
    "import statistics\n",
    "\n",
    "main_simulator = MainSimulator()"
   ]
  },
  {
   "cell_type": "code",
   "execution_count": 24,
   "id": "f811d7e9-52f5-4ab4-a3f9-d8966fc786f2",
   "metadata": {},
   "outputs": [],
   "source": [
    "def target_function_list(X, repetition=1):\n",
    "    Y = []\n",
    "    for x in X:\n",
    "        mutation_rates = {\n",
    "            \"size\": x[0],\n",
    "            \"speed\": x[1],\n",
    "            \"vision\": x[2],\n",
    "            \"aggression\": x[3]\n",
    "        }\n",
    "        items = []\n",
    "        #total = 0\n",
    "        for i in range(repetition):\n",
    "            days_survived, log = main_simulator.run(mutation_rates, debug_info=DebugInfo(\n",
    "                period=10, should_display_day=False, should_display_grid=False, should_display_traits=False), max_days=10000)\n",
    "            items.append(days_survived)\n",
    "            #total += days_survived\n",
    "        Y.append(statistics.median(items))\n",
    "        #Y.append(total//repetition)\n",
    "    return np.array(Y)[:,np.newaxis]"
   ]
  },
  {
   "cell_type": "code",
   "execution_count": 26,
   "id": "45041748-0857-4a83-be29-7539a1b442ca",
   "metadata": {},
   "outputs": [],
   "source": [
    "space = ParameterSpace([ContinuousParameter('size', 0, 2),\n",
    "                            ContinuousParameter('speed', 0, 2),\n",
    "                            ContinuousParameter('vision', 0, 2),\n",
    "                            ContinuousParameter('aggression', 0, 2)])\n",
    "\n",
    "design = LatinDesign(space) # Collect random points\n",
    "X = design.get_samples(10)"
   ]
  },
  {
   "cell_type": "code",
   "execution_count": 27,
   "id": "e8c89d84-d038-4f5f-a7b4-8ba31f6ee5ee",
   "metadata": {},
   "outputs": [
    {
     "name": "stderr",
     "output_type": "stream",
     "text": [
      "100%|███████████████████████████████████████████████████████████████████████████████████████████████████████████████████████████████████████████| 10/10 [05:02<00:00, 30.24s/it]\n"
     ]
    }
   ],
   "source": [
    "Y = []\n",
    "for x in tqdm(X):\n",
    "    y = target_function_list(np.array([x]),1)\n",
    "    Y.append(y[0])"
   ]
  },
  {
   "cell_type": "code",
   "execution_count": 33,
   "id": "01e4517f-88e3-4cdb-bd3f-6cc18cbb70b0",
   "metadata": {},
   "outputs": [],
   "source": [
    "with open('dataset_test/mutation_rates.npy', 'wb') as f:\n",
    "  np.save(f, np.array(X))\n",
    "with open('dataset_test/simulated_years_of_survival.npy', 'wb') as f:\n",
    "  np.save(f, np.array(Y))"
   ]
  }
 ],
 "metadata": {
  "kernelspec": {
   "display_name": "Python 3 (ipykernel)",
   "language": "python",
   "name": "python3"
  },
  "language_info": {
   "codemirror_mode": {
    "name": "ipython",
    "version": 3
   },
   "file_extension": ".py",
   "mimetype": "text/x-python",
   "name": "python",
   "nbconvert_exporter": "python",
   "pygments_lexer": "ipython3",
   "version": "3.10.13"
  }
 },
 "nbformat": 4,
 "nbformat_minor": 5
}
