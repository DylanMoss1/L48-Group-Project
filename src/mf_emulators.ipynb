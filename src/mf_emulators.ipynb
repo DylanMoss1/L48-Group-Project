{
 "cells": [
  {
   "cell_type": "code",
   "execution_count": 1,
   "id": "03150cda",
   "metadata": {},
   "outputs": [],
   "source": [
    "from typing import Tuple\n",
    "import numpy as np\n",
    "import deepgp\n",
    "import matplotlib.pyplot as plt\n",
    "\n",
    "import GPy\n",
    "from GPy.models import GPRegression\n",
    "from emukit.test_functions import forrester_function\n",
    "from emukit.core.initial_designs import RandomDesign\n",
    "from emukit.model_wrappers import GPyModelWrapper\n",
    "from emukit.bayesian_optimization.acquisitions import ExpectedImprovement, NegativeLowerConfidenceBound, ProbabilityOfImprovement\n",
    "from emukit.core.optimization import GradientAcquisitionOptimizer\n",
    "from emukit.sensitivity.monte_carlo import MonteCarloSensitivity\n",
    "from gpflow.kernels import RBF, White, Linear\n",
    "from tqdm import tqdm"
   ]
  },
  {
   "cell_type": "code",
   "execution_count": null,
   "id": "dd7f45c9",
   "metadata": {},
   "outputs": [
    {
     "name": "stderr",
     "output_type": "stream",
     "text": [
      "  0%|                                                                                                                                                    | 0/10 [00:00<?, ?it/s]"
     ]
    },
    {
     "name": "stdout",
     "output_type": "stream",
     "text": [
      "Day number: 10\n",
      "Population: 151\n",
      "Day number: 20\n",
      "Population: 54\n",
      "Day number: 30\n",
      "Population: 16\n",
      "Day number: 40\n",
      "Population: 72\n",
      "Day number: 50\n",
      "Population: 524\n",
      "Day number: 60\n",
      "Population: 1347\n",
      "Day number: 70\n",
      "Population: 1867\n",
      "Day number: 80\n",
      "Population: 1688\n",
      "Day number: 90\n",
      "Population: 1340\n",
      "Day number: 100\n",
      "Population: 587\n",
      "Day number: 110\n",
      "Population: 148\n",
      "Day number: 120\n",
      "Population: 46\n",
      "Day number: 130\n",
      "Population: 23\n",
      "Day number: 140\n",
      "Population: 80\n",
      "Day number: 150\n",
      "Population: 408\n",
      "Day number: 160\n",
      "Population: 1179\n"
     ]
    }
   ],
   "source": [
    "from simulator import MainSimulator, TinySimulator\n",
    "from world import DebugInfo\n",
    "from pprint import pprint\n",
    "\n",
    "main_simulator = MainSimulator()\n",
    "\n",
    "mutation_rates = {\n",
    "    \"size\": 0.1,\n",
    "    \"speed\": 0.1,\n",
    "    \"vision\": 0.1,\n",
    "    \"aggression\": 0.1\n",
    "}\n",
    "\n",
    "days_log = []\n",
    "for i in tqdm(range(10)):\n",
    "    main_simulator = MainSimulator()\n",
    "    days_survived, log = main_simulator.run(mutation_rates, debug_info=DebugInfo(\n",
    "        period=10, should_display_day=True, should_display_grid=False, should_display_traits=False, should_display_population=True), max_days=10000)\n",
    "    days_log.append(days_survived)\n",
    "    print(days_survived)\n",
    "\n",
    "\n",
    "# for log_item in log:\n",
    "#     print(log_item)\n",
    "print(days_log)"
   ]
  },
  {
   "cell_type": "code",
   "execution_count": null,
   "id": "3718427f",
   "metadata": {},
   "outputs": [],
   "source": [
    "class SingleTraitEmulator:\n",
    "    def __init__(self, X, Y, kernel, noise=1e-10):\n",
    "        self.model = GPyModelWrapper(GPRegression(X, Y, kernel, noise))\n",
    "    \n",
    "    def predict(self, X) -> Tuple[np.ndarray, np.ndarray]:\n",
    "        return self.model.predict(X)\n",
    "    \n",
    "    def set_data(self, X: np.ndarray, Y: np.ndarray) -> None:\n",
    "        self.model.set_data(X, Y)\n",
    "\n",
    "#TODO: Data Preprocessing\n",
    "X_size, Y_size = np.array([0,1,2,3]), np.array([1,3,7,2])\n",
    "# Assuming a general quadratic relationship between mutation rate and survival years\n",
    "size_kernel = GPy.kern.RatQuad(input_dim=1, power=1e4) * GPy.kern.Linear(1) * GPy.kern.Linear(-1)\n",
    "size_emulator = SingleTraitEmulator(X_size, Y_size, size_kernel)\n",
    "\n",
    "X_speed, Y_speed = np.array([0,1,2,3]), np.array([1,3,7,2])\n",
    "speed_kernel = GPy.kern.RatQuad(input_dim=1, power=1e4) * GPy.kern.Linear(1) * GPy.kern.Linear(-1)\n",
    "speed_emulator = SingleTraitEmulator(X_speed, Y_speed, speed_kernel)\n",
    "\n",
    "X_vision, Y_vision = np.array([0,1,2,3]), np.array([1,3,7,2])\n",
    "vision_kernel = GPy.kern.RatQuad(input_dim=1, power=1e4) * GPy.kern.Linear(1) * GPy.kern.Linear(-1)\n",
    "vision_emulator = SingleTraitEmulator(X_vision, Y_vision, vision_kernel)\n",
    "\n",
    "X_aggression, Y_agression = np.array([0,1,2,3]), np.array([1,3,7,2])\n",
    "aggression_kernel = GPy.kern.RatQuad(input_dim=1, power=1e4) * GPy.kern.Linear(1) * GPy.kern.Linear(-1)\n",
    "aggression_emulator = SingleTraitEmulator(X_aggression, Y_agression, aggression_kernel)"
   ]
  },
  {
   "cell_type": "code",
   "execution_count": null,
   "id": "8416206c-444b-408a-b026-ab5f454b2564",
   "metadata": {},
   "outputs": [],
   "source": [
    "def plot_prediction(X,Y,x_plot,mu_plot,var_plot,axis):\n",
    "    axis.plot(X, Y, \"ro\", markersize=10, label=\"Observations\")\n",
    "    axis.plot(x_plot[:, 0], mu_plot[:, 0], \"C0\", label=\"Model\")\n",
    "    axis.fill_between(x_plot[:, 0],\n",
    "                     mu_plot[:, 0] + np.sqrt(var_plot)[:, 0],\n",
    "                     mu_plot[:, 0] - np.sqrt(var_plot)[:, 0], color=\"C0\", alpha=0.6)\n",
    "    axis.fill_between(x_plot[:, 0],\n",
    "                     mu_plot[:, 0] + 2 * np.sqrt(var_plot)[:, 0],\n",
    "                     mu_plot[:, 0] - 2 * np.sqrt(var_plot)[:, 0], color=\"C0\", alpha=0.4)\n",
    "    axis.fill_between(x_plot[:, 0],\n",
    "                     mu_plot[:, 0] + 3 * np.sqrt(var_plot)[:, 0],\n",
    "                     mu_plot[:, 0] - 3 * np.sqrt(var_plot)[:, 0], color=\"C0\", alpha=0.2)\n",
    "    axis.legend(loc=2, prop={'size': 10})\n",
    "    axis.set(xlabel=r\"$x$\", ylabel=r\"$f(x)$\")\n",
    "    axis.grid(True)"
   ]
  },
  {
   "cell_type": "code",
   "execution_count": null,
   "id": "a57f737d-733f-4aed-8ecc-e0e5516e240c",
   "metadata": {},
   "outputs": [],
   "source": [
    "def plot_acquisition_functions(x_plot, ei_plot, nlcb_plot, pi_plot, x_new, axis):\n",
    "    axis.plot(x_plot, (ei_plot - np.min(ei_plot)) / (np.max(ei_plot) - np.min(ei_plot)), \"green\", label=\"EI\")\n",
    "    axis.plot(x_plot, (nlcb_plot - np.min(nlcb_plot)) / (np.max(nlcb_plot) - np.min(nlcb_plot)), \"purple\", label=\"NLCB\")\n",
    "    axis.plot(x_plot, (pi_plot - np.min(pi_plot)) / (np.max(pi_plot) - np.min(pi_plot)), \"darkorange\", label=\"PI\")\n",
    "    \n",
    "    axis.axvline(x_new, color=\"red\", label=\"x_next\", linestyle=\"--\")\n",
    "    axis.legend(loc=1, prop={'size': 10})\n",
    "    axis.set(xlabel=r\"$x$\", ylabel=r\"$f(x)$\")\n",
    "    axis.grid(True)"
   ]
  },
  {
   "cell_type": "code",
   "execution_count": null,
   "id": "57f67e16-8a0d-4ab8-81c5-7707e2b750cf",
   "metadata": {},
   "outputs": [],
   "source": [
    "x_plot = np.linspace(0, 10, 1000)[:, None]\n",
    "X = np.array([[0],[5], [10]])\n",
    "Y = np.array([[0]])\n",
    "for x in X:\n",
    "    Y = np.append(Y_init,target_speed_function(x),axis=0)\n",
    "Y = Y[1:]\n",
    "\n",
    "ei_acquisition = ExpectedImprovement(emukit_speed_model)\n",
    "nlcb_acquisition = NegativeLowerConfidenceBound(emukit_speed_model)\n",
    "pi_acquisition = ProbabilityOfImprovement(emukit_speed_model)"
   ]
  },
  {
   "cell_type": "code",
   "execution_count": null,
   "id": "88d9e9e4-ab30-4106-b918-5c73a3e7cf5c",
   "metadata": {},
   "outputs": [],
   "source": [
    "speed_model = GPRegression(X, Y, GPy.kern.RBF(1, lengthscale=1, variance=100), noise_var=1)\n",
    "emukit_speed_model = GPyModelWrapper(speed_model)\n",
    "mu_plot, var_plot = emukit_speed_model.predict(x_plot)\n",
    "plot_prediction(X,Y,x_plot,mu_plot,var_plot,plt)\n",
    "plt.show()"
   ]
  },
  {
   "cell_type": "code",
   "execution_count": null,
   "id": "fbfe83a2-ec5e-4848-bb25-a093a14c328e",
   "metadata": {},
   "outputs": [],
   "source": [
    "iterations = 20\n",
    "figure, axis = plt.subplots(iterations, 2, figsize=(10, iterations*3))\n",
    "\n",
    "for i in tqdm(range(iterations)):\n",
    "    mu_plot, var_plot = emukit_speed_model.predict(x_plot)\n",
    "    plot_prediction(X,Y,x_plot,mu_plot,var_plot,axis[i,0])\n",
    "    \n",
    "    ei_plot = ei_acquisition.evaluate(x_plot)\n",
    "    nlcb_plot = nlcb_acquisition.evaluate(x_plot)\n",
    "    pi_plot = pi_acquisition.evaluate(x_plot)\n",
    "    \n",
    "    optimizer = GradientAcquisitionOptimizer(ParameterSpace([ContinuousParameter('x1', 0, 10)]))\n",
    "    x_new, _ = optimizer.optimize(nlcb_acquisition)\n",
    "    print(\"Next position to query:\", x_new)\n",
    "    plot_acquisition_functions(x_plot, ei_plot, nlcb_plot, pi_plot, x_new, axis[i,1])\n",
    "    \n",
    "    y_new = target_speed_function(x_new)\n",
    "    X = np.append(X, x_new, axis=0)\n",
    "    Y = np.append(Y, y_new, axis=0)\n",
    "    emukit_speed_model.set_data(X, Y)\n",
    "\n",
    "plt.show()"
   ]
  },
  {
   "cell_type": "code",
   "execution_count": 4,
   "id": "da749973-bab8-419a-ad51-87bbd4327e64",
   "metadata": {},
   "outputs": [],
   "source": [
    "X_train = np.array([np.array([110,200,200,400]),np.array([300,252,300,400])])\n",
    "Y_train = np.array([[100],[200]])"
   ]
  },
  {
   "cell_type": "code",
   "execution_count": 13,
   "id": "1105ed0d",
   "metadata": {},
   "outputs": [
    {
     "name": "stdout",
     "output_type": "stream",
     "text": [
      "  \u001b[1mlatent_space.\u001b[0;0m  |   value  |  constraints  |  priors\n",
      "  \u001b[1mmean         \u001b[0;0m  |  (2, 1)  |               |        \n",
      "  \u001b[1mvariance     \u001b[0;0m  |  (2, 1)  |      +ve      |         1 1\n",
      "[[110 200 200 400]\n",
      " [300 252 300 400]] 4 4\n"
     ]
    },
    {
     "data": {
      "application/vnd.jupyter.widget-view+json": {
       "model_id": "3a75d71bba3b404baa490bca96a6c31c",
       "version_major": 2,
       "version_minor": 0
      },
      "text/plain": [
       "HBox(children=(VBox(children=(IntProgress(value=0, max=800), HTML(value=''))), Box(children=(HTML(value=''),))…"
      ]
     },
     "metadata": {},
     "output_type": "display_data"
    }
   ],
   "source": [
    "# DGP using deepgp library\n",
    "Q = 5\n",
    "num_layers = 1\n",
    "kern1 = GPy.kern.RBF(Q,ARD=True) + GPy.kern.Bias(Q)\n",
    "kern2 = GPy.kern.RBF(X_train.shape[1],ARD=True) + GPy.kern.Bias(X_train.shape[1])\n",
    "num_inducing = 4 # Number of inducing points to use for sparsification\n",
    "back_constraint = False # Whether to use back-constraint for variational posterior\n",
    "encoder_dims=[[300],[150]] # Dimensions of the MLP back-constraint if set to true\n",
    "\n",
    "dgp_model = deepgp.DeepGP([X_train.shape[1], num_layers, Y_train.shape[1]], X_train, Y_train, kernels=[kern2,None], num_inducing=num_inducing, back_constraint=back_constraint, encoder_dims=encoder_dims)\n",
    "\n",
    "for i in range(len(dgp_model.layers)):\n",
    "    output_var = dgp_model.layers[i].Y.var() if i==0 else dgp_model.layers[i].Y.mean.var()\n",
    "    dgp_model.layers[i].Gaussian_noise.variance = output_var*0.01\n",
    "    dgp_model.layers[i].Gaussian_noise.variance.fix()\n",
    "\n",
    "dgp_model.optimize(max_iters=800, messages=True)\n",
    "for i in range(len(dgp_model.layers)):\n",
    "    dgp_model.layers[i].Gaussian_noise.variance.unfix()\n",
    "dgp_model.optimize(max_iters=1200, messages=True)"
   ]
  },
  {
   "cell_type": "code",
   "execution_count": 14,
   "id": "b030525e-2983-4634-a0e2-e08cbb68b38d",
   "metadata": {},
   "outputs": [
    {
     "data": {
      "text/html": [
       "<style type=\"text/css\">\n",
       ".pd{\n",
       "    font-family: \"Courier New\", Courier, monospace !important;\n",
       "    width: 100%;\n",
       "    padding: 3px;\n",
       "}\n",
       "</style>\n",
       "\n",
       "<p class=pd>\n",
       "<b>Model</b>: deepgp<br>\n",
       "<b>Objective</b>: 17.973063641208945<br>\n",
       "<b>Number of Parameters</b>: 42<br>\n",
       "<b>Number of Optimization Parameters</b>: 42<br>\n",
       "<b>Updates</b>: True<br>\n",
       "</p>\n",
       "<style type=\"text/css\">\n",
       ".tg  {font-family:\"Courier New\", Courier, monospace !important;padding:2px 3px;word-break:normal;border-collapse:collapse;border-spacing:0;border-color:#DCDCDC;margin:0px auto;width:100%;}\n",
       ".tg td{font-family:\"Courier New\", Courier, monospace !important;font-weight:bold;color:#444;background-color:#F7FDFA;border-style:solid;border-width:1px;overflow:hidden;word-break:normal;border-color:#DCDCDC;}\n",
       ".tg th{font-family:\"Courier New\", Courier, monospace !important;font-weight:normal;color:#fff;background-color:#26ADE4;border-style:solid;border-width:1px;overflow:hidden;word-break:normal;border-color:#DCDCDC;}\n",
       ".tg .tg-left{font-family:\"Courier New\", Courier, monospace !important;font-weight:normal;text-align:left;}\n",
       ".tg .tg-center{font-family:\"Courier New\", Courier, monospace !important;font-weight:normal;text-align:center;}\n",
       ".tg .tg-right{font-family:\"Courier New\", Courier, monospace !important;font-weight:normal;text-align:right;}\n",
       "</style>\n",
       "<table class=\"tg\"><tr><th><b>  deepgp.                         </b></th><th><b>             value</b></th><th><b>constraints</b></th><th><b>priors</b></th></tr>\n",
       "<tr><td class=tg-left>  obslayer.inducing inputs        </td><td class=tg-right>            (4, 1)</td><td class=tg-center>           </td><td class=tg-center>      </td></tr>\n",
       "<tr><td class=tg-left>  obslayer.sum.rbf.variance       </td><td class=tg-right>  9108.78661789169</td><td class=tg-center>    +ve    </td><td class=tg-center>      </td></tr>\n",
       "<tr><td class=tg-left>  obslayer.sum.rbf.lengthscale    </td><td class=tg-right>127.98052888600307</td><td class=tg-center>    +ve    </td><td class=tg-center>      </td></tr>\n",
       "<tr><td class=tg-left>  obslayer.sum.bias.variance      </td><td class=tg-right>11327.789851930656</td><td class=tg-center>    +ve    </td><td class=tg-center>      </td></tr>\n",
       "<tr><td class=tg-left>  obslayer.Gaussian_noise.variance</td><td class=tg-right>              25.0</td><td class=tg-center>    +ve    </td><td class=tg-center>      </td></tr>\n",
       "<tr><td class=tg-left>  obslayer.Kuu_var                </td><td class=tg-right>              (4,)</td><td class=tg-center>    +ve    </td><td class=tg-center>      </td></tr>\n",
       "<tr><td class=tg-left>  obslayer.latent space.mean      </td><td class=tg-right>            (2, 1)</td><td class=tg-center>           </td><td class=tg-center>      </td></tr>\n",
       "<tr><td class=tg-left>  obslayer.latent space.variance  </td><td class=tg-right>            (2, 1)</td><td class=tg-center>    +ve    </td><td class=tg-center>      </td></tr>\n",
       "<tr><td class=tg-left>  layer_1.inducing inputs         </td><td class=tg-right>            (4, 4)</td><td class=tg-center>           </td><td class=tg-center>      </td></tr>\n",
       "<tr><td class=tg-left>  layer_1.rbf.variance            </td><td class=tg-right>  4139.84455596258</td><td class=tg-center>    +ve    </td><td class=tg-center>      </td></tr>\n",
       "<tr><td class=tg-left>  layer_1.rbf.lengthscale         </td><td class=tg-right>              (4,)</td><td class=tg-center>    +ve    </td><td class=tg-center>      </td></tr>\n",
       "<tr><td class=tg-left>  layer_1.Gaussian_noise.variance </td><td class=tg-right>              0.01</td><td class=tg-center>    +ve    </td><td class=tg-center>      </td></tr>\n",
       "<tr><td class=tg-left>  layer_1.Kuu_var                 </td><td class=tg-right>              (4,)</td><td class=tg-center>    +ve    </td><td class=tg-center>      </td></tr>\n",
       "</table>"
      ],
      "text/plain": [
       "<deepgp.models.model.DeepGP at 0x28c50a680>"
      ]
     },
     "metadata": {},
     "output_type": "display_data"
    }
   ],
   "source": [
    "display(dgp_model)"
   ]
  },
  {
   "cell_type": "code",
   "execution_count": 25,
   "id": "91ca02b2-d31b-416c-82f7-7e5ffe98477a",
   "metadata": {},
   "outputs": [],
   "source": [
    "x_plot = np.linspace(0, 1000, 1000)[:, None]\n",
    "x_new = np.stack((x_plot,x_plot,x_plot,x_plot),axis = -1)\n",
    "Y_pred = dgp_model.predict(np.array([[10,10,10,10]]))"
   ]
  },
  {
   "cell_type": "code",
   "execution_count": null,
   "id": "7cdb1598-4f15-484a-87a7-ad2f90d1edf8",
   "metadata": {},
   "outputs": [],
   "source": [
    "def target_size_function(x):\n",
    "    mutation_rates = {\n",
    "        \"size\": x,\n",
    "        \"speed\": 0,\n",
    "        \"vision\": 0,\n",
    "        \"aggression\": 0\n",
    "    }\n",
    "    days_survived, log = main_simulator.run(mutation_rates, debug_info=DebugInfo(\n",
    "        period=10, should_display_day=True, should_display_grid=False, should_display_traits=False), max_days=10000)\n",
    "    return days_survived\n",
    "    \n",
    "def target_speed_function(x):\n",
    "    mutation_rates = {\n",
    "        \"size\": 0,\n",
    "        \"speed\": x,\n",
    "        \"vision\": 0,\n",
    "        \"aggression\": 0\n",
    "    }\n",
    "    days_survived, log = main_simulator.run(mutation_rates, debug_info=DebugInfo(\n",
    "        period=10, should_display_day=True, should_display_grid=False, should_display_traits=False), max_days=10000)\n",
    "    return days_survived\n",
    "\n",
    "def target_vision_function(x):\n",
    "    mutation_rates = {\n",
    "        \"size\": 0,\n",
    "        \"speed\": 0,\n",
    "        \"vision\": x,\n",
    "        \"aggression\": 0\n",
    "    }\n",
    "    days_survived, log = main_simulator.run(mutation_rates, debug_info=DebugInfo(\n",
    "        period=10, should_display_day=True, should_display_grid=False, should_display_traits=False), max_days=10000)\n",
    "    return days_survived\n",
    "\n",
    "def target_aggression_function(x):\n",
    "    mutation_rates = {\n",
    "        \"size\": 0,\n",
    "        \"speed\": 0,\n",
    "        \"vision\": 0,\n",
    "        \"aggression\": x\n",
    "    }\n",
    "    days_survived, log = main_simulator.run(mutation_rates, debug_info=DebugInfo(\n",
    "        period=10, should_display_day=True, should_display_grid=False, should_display_traits=False), max_days=10000)\n",
    "    return days_survived\n",
    "\n",
    "def target_function(X):\n",
    "    mutation_rates = {\n",
    "        \"size\": X[0],\n",
    "        \"speed\": X[1],\n",
    "        \"vision\": X[2],\n",
    "        \"aggression\": X[3]\n",
    "    }\n",
    "    days_survived, log = main_simulator.run(mutation_rates, debug_info=DebugInfo(\n",
    "        period=10, should_display_day=True, should_display_grid=False, should_display_traits=False), max_days=10000)\n",
    "    return days_survived"
   ]
  },
  {
   "cell_type": "code",
   "execution_count": 30,
   "id": "3a1d4580-fd50-4ca8-a844-60c63cf1d6c6",
   "metadata": {},
   "outputs": [],
   "source": [
    "x_plot = np.linspace(0, 20, 1000)[:, None]\n",
    "\n",
    "X_size = np.array([[0],[1], [20]])\n",
    "X_speed = np.array([[0],[1], [20]])\n",
    "X_vision = np.array([[0],[1], [20]])\n",
    "X_aggression = np.array([[0],[1], [20]])\n",
    "\n",
    "Y_size = np.array([[0]])\n",
    "Y_speed = np.array([[0]])\n",
    "Y_vision = np.array([[0]])\n",
    "Y_aggression = np.array([[0]])"
   ]
  },
  {
   "cell_type": "code",
   "execution_count": null,
   "id": "c4175a67-c53a-4301-b3ae-609fbbfc0f47",
   "metadata": {},
   "outputs": [],
   "source": [
    "for x in X_size:\n",
    "    Y_size = np.append(Y_size,target_size_function(x),axis=0)\n",
    "    \n",
    "Y_size = Y_size[1:]"
   ]
  },
  {
   "cell_type": "code",
   "execution_count": null,
   "id": "9ab1723a-96aa-4583-bea3-0048cb994f1b",
   "metadata": {},
   "outputs": [],
   "source": [
    "for x in X_speed:\n",
    "    Y_speed = np.append(Y_speed,target_speed_function(x),axis=0)\n",
    "\n",
    "Y_speed = Y_speed[1:]"
   ]
  },
  {
   "cell_type": "code",
   "execution_count": null,
   "id": "bb5cbb16-2251-422c-b497-935b784f26a3",
   "metadata": {},
   "outputs": [],
   "source": [
    "for x in X_vision:\n",
    "    Y_vision = np.append(Y_vision,target_vision_function(x),axis=0)\n",
    "    \n",
    "Y_vision = Y_vision[1:]"
   ]
  },
  {
   "cell_type": "code",
   "execution_count": null,
   "id": "66008b90-595f-419a-9a33-07ce2d8a850e",
   "metadata": {},
   "outputs": [],
   "source": [
    "for x in X_aggression:\n",
    "    Y_aggression = np.append(Y_aggression,target_aggression_function(x),axis=0)\n",
    "\n",
    "Y_aggression = Y_agression[1:]"
   ]
  },
  {
   "cell_type": "code",
   "execution_count": null,
   "id": "98efb391-a321-4a5a-8662-58be976ab75f",
   "metadata": {},
   "outputs": [],
   "source": [
    "size_model = GPRegression(X, Y, GPy.kern.RBF(1, lengthscale=1, variance=100), noise_var=1)\n",
    "speed_model = GPRegression(X, Y, GPy.kern.RBF(1, lengthscale=1, variance=100), noise_var=1)\n",
    "vision_model = GPRegression(X, Y, GPy.kern.RBF(1, lengthscale=1, variance=100), noise_var=1)\n",
    "aggression_model = GPRegression(X, Y, GPy.kern.RBF(1, lengthscale=1, variance=100), noise_var=1)\n",
    "\n",
    "emukit_size_model = GPyModelWrapper(size_model)\n",
    "emukit_speed_model = GPyModelWrapper(speed_model)\n",
    "emukit_vision_model = GPyModelWrapper(vision_model)\n",
    "emukit_aggression_model = GPyModelWrapper(agression_model)\n",
    "\n",
    "size_ei_acquisition = ExpectedImprovement(emukit_size_model)\n",
    "size_nlcb_acquisition = NegativeLowerConfidenceBound(emukit_size_model)\n",
    "size_pi_acquisition = ProbabilityOfImprovement(emukit_size_model)\n",
    "\n",
    "speed_ei_acquisition = ExpectedImprovement(emukit_speed_model)\n",
    "speed_nlcb_acquisition = NegativeLowerConfidenceBound(emukit_speed_model)\n",
    "speed_pi_acquisition = ProbabilityOfImprovement(emukit_speed_model)\n",
    "\n",
    "vision_ei_acquisition = ExpectedImprovement(emukit_vision_model)\n",
    "vision_nlcb_acquisition = NegativeLowerConfidenceBound(emukit_vision_model)\n",
    "vision_pi_acquisition = ProbabilityOfImprovement(emukit_vision_model)\n",
    "\n",
    "aggression_ei_acquisition = ExpectedImprovement(emukit_aggression_model)\n",
    "aggression_nlcb_acquisition = NegativeLowerConfidenceBound(emukit_aggression_model)\n",
    "aggression_pi_acquisition = ProbabilityOfImprovement(emukit_aggression_model)"
   ]
  },
  {
   "cell_type": "code",
   "execution_count": null,
   "id": "b46dcbff-8d89-4569-af7a-171fca225875",
   "metadata": {},
   "outputs": [],
   "source": [
    "X_train = np.array([[1,1,1,1, Y_size[1], Y_speed[1], Y_vision[1], Y_aggression[1]],\n",
    "                   [1,0,0,0, Y_size[1], Y_speed[0], Y_vision[0], Y_aggression[0]],\n",
    "                   [1,1,1,1, Y_size[1], Y_speed[1], Y_vision[1], Y_aggression[1]],\n",
    "                   [1,1,1,1, Y_size[1], Y_speed[1], Y_vision[1], Y_aggression[1]],\n",
    "                   [1,1,1,1, Y_size[1], Y_speed[1], Y_vision[1], Y_aggression[1]]])\n",
    "Y_train = np.array([[target_function([1,1,1,1])]])\n",
    "Q = 5\n",
    "num_layers = 1\n",
    "kern1 = GPy.kern.RBF(Q,ARD=True) + GPy.kern.Bias(Q)\n",
    "kern2 = GPy.kern.RBF(X_train.shape[1],ARD=True) + GPy.kern.Bias(X_train.shape[1])\n",
    "num_inducing = 4 # Number of inducing points to use for sparsification\n",
    "back_constraint = False # Whether to use back-constraint for variational posterior\n",
    "encoder_dims=[[300],[150]] # Dimensions of the MLP back-constraint if set to true"
   ]
  },
  {
   "cell_type": "code",
   "execution_count": 31,
   "id": "98f5c298-9de8-4ec3-a023-d881fa893c7e",
   "metadata": {},
   "outputs": [],
   "source": [
    "def upper_confidence_bound(y_pred, y_std, beta):\n",
    "    ucb = y_pred + beta * y_std\n",
    "    return ucb\n",
    "\n",
    "beta = 2.0"
   ]
  },
  {
   "cell_type": "code",
   "execution_count": null,
   "id": "c82d6567-4fc7-4365-a6fb-a801ae1df000",
   "metadata": {},
   "outputs": [],
   "source": [
    "iterations = 20\n",
    "figure, axis = plt.subplots(iterations, 2, figsize=(10, iterations*3))\n",
    "\n",
    "for i in tqdm(range(iterations)):\n",
    "    mu_speed_plot, var_speed_plot = emukit_speed_model.predict(x_plot)\n",
    "    ei_speed_plot = speed_ei_acquisition.evaluate(x_plot)\n",
    "    nlcb_speed_plot = speed_nlcb_acquisition.evaluate(x_plot)\n",
    "    pi_speed_plot = speed_pi_acquisition.evaluate(x_plot)\n",
    "    \n",
    "    size_optimizer = GradientAcquisitionOptimizer(ParameterSpace([ContinuousParameter('x1', 0, 20)]))\n",
    "    x_size_new, _ = size_optimizer.optimize(size_nlcb_acquisition)\n",
    "    speed_optimizer = GradientAcquisitionOptimizer(ParameterSpace([ContinuousParameter('x1', 0, 20)]))\n",
    "    x_speed_new, _ = speed_optimizer.optimize(speed_nlcb_acquisition)\n",
    "    vision_optimizer = GradientAcquisitionOptimizer(ParameterSpace([ContinuousParameter('x1', 0, 20)]))\n",
    "    x_vision_new, _ = vision_optimizer.optimize(vision_nlcb_acquisition)\n",
    "    aggression_optimizer = GradientAcquisitionOptimizer(ParameterSpace([ContinuousParameter('x1', 0, 20)]))\n",
    "    x_aggression_new, _ = aggression_optimizer.optimize(agression_nlcb_acquisition)\n",
    "\n",
    "    print(\"Next position to query:\", x_size_new, x_speed_new, x_vision_new, x_agression_new)\n",
    "    \n",
    "    y_new = target_speed_function(x_new)\n",
    "    X = np.append(X, x_new, axis=0)\n",
    "    Y = np.append(Y, y_new, axis=0)\n",
    "    emukit_speed_model.set_data(X, Y)\n",
    "\n",
    "plt.show()"
   ]
  },
  {
   "cell_type": "code",
   "execution_count": null,
   "id": "bce07f88-f7da-45c6-b5a4-c1b4a5be941c",
   "metadata": {},
   "outputs": [],
   "source": [
    "x"
   ]
  },
  {
   "cell_type": "code",
   "execution_count": null,
   "id": "edd3b212-6451-4be5-b9f4-dc4b06942c7c",
   "metadata": {},
   "outputs": [],
   "source": []
  }
 ],
 "metadata": {
  "kernelspec": {
   "display_name": "Python 3 (ipykernel)",
   "language": "python",
   "name": "python3"
  },
  "language_info": {
   "codemirror_mode": {
    "name": "ipython",
    "version": 3
   },
   "file_extension": ".py",
   "mimetype": "text/x-python",
   "name": "python",
   "nbconvert_exporter": "python",
   "pygments_lexer": "ipython3",
   "version": "3.10.13"
  }
 },
 "nbformat": 4,
 "nbformat_minor": 5
}
