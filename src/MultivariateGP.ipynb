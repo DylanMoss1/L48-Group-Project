{
 "cells": [
  {
   "cell_type": "code",
   "execution_count": 236,
   "id": "a64a595b-ad7f-423b-b704-c13c246c7c95",
   "metadata": {},
   "outputs": [],
   "source": [
    "from typing import Tuple\n",
    "import numpy as np\n",
    "import deepgp\n",
    "import matplotlib.pyplot as plt\n",
    "from datetime import datetime\n",
    "import os\n",
    "\n",
    "import GPy\n",
    "from GPy.models import GPRegression\n",
    "from emukit.test_functions import forrester_function\n",
    "from emukit.core.initial_designs import RandomDesign\n",
    "from emukit.model_wrappers import GPyModelWrapper\n",
    "from emukit.bayesian_optimization.acquisitions import ExpectedImprovement, NegativeLowerConfidenceBound, ProbabilityOfImprovement, EntropySearch\n",
    "from emukit.core.optimization import GradientAcquisitionOptimizer\n",
    "from emukit.core.initial_designs import RandomDesign\n",
    "from emukit.core import ParameterSpace, ContinuousParameter\n",
    "from emukit.sensitivity.monte_carlo import MonteCarloSensitivity\n",
    "from gpflow.kernels import RBF, White, Linear\n",
    "from tqdm import tqdm\n",
    "\n",
    "from simulator import MainSimulator, TinySimulator\n",
    "from world import DebugInfo\n",
    "from pprint import pprint\n",
    "\n",
    "main_simulator = MainSimulator()"
   ]
  },
  {
   "cell_type": "code",
   "execution_count": 10,
   "id": "652c42c1-0bcb-479a-8c2c-9caedf4d7208",
   "metadata": {},
   "outputs": [],
   "source": [
    "def plot_prediction(X,Y,x_plot,mu_plot,var_plot,axis):\n",
    "    axis.plot(X, Y, \"ro\", markersize=10, label=\"Observations\")\n",
    "    axis.plot(x_plot[:, 0], mu_plot[:, 0], \"C0\", label=\"Model\")\n",
    "    axis.fill_between(x_plot[:, 0],\n",
    "                     mu_plot[:, 0] + np.sqrt(var_plot)[:, 0],\n",
    "                     mu_plot[:, 0] - np.sqrt(var_plot)[:, 0], color=\"C0\", alpha=0.6)\n",
    "    axis.fill_between(x_plot[:, 0],\n",
    "                     mu_plot[:, 0] + 2 * np.sqrt(var_plot)[:, 0],\n",
    "                     mu_plot[:, 0] - 2 * np.sqrt(var_plot)[:, 0], color=\"C0\", alpha=0.4)\n",
    "    axis.fill_between(x_plot[:, 0],\n",
    "                     mu_plot[:, 0] + 3 * np.sqrt(var_plot)[:, 0],\n",
    "                     mu_plot[:, 0] - 3 * np.sqrt(var_plot)[:, 0], color=\"C0\", alpha=0.2)\n",
    "    axis.legend(loc=2, prop={'size': 10})\n",
    "    axis.set(xlabel=r\"$x$\", ylabel=r\"$f(x)$\")\n",
    "    axis.grid(True)"
   ]
  },
  {
   "cell_type": "code",
   "execution_count": 223,
   "id": "4012e313-e4f0-451d-b5f9-0f0c7553ebd3",
   "metadata": {},
   "outputs": [],
   "source": [
    "def plot_acquisition_functions(x_plot, ac_plot, x_new, axis):\n",
    "    axis.plot(x_plot, (ac_plot[1] - np.min(ac_plot[1])) / (np.max(ac_plot[1]) - np.min(ac_plot[1])), label=ac_plot[0])\n",
    "    #axis.plot(x_plot, (ac_plots[0][1] - np.min(ac_plots[0][1])) / (np.max(ac_plots[0][1]) - np.min(ac_plots[0][1])), label=ac_plots[0][0])\n",
    "    #axis.plot(x_plot, (ac_plots[1][1] - np.min(ac_plots[1][1])) / (np.max(ac_plots[1][1]) - np.min(ac_plots[1][1])), label=ac_plots[1][0])\n",
    "    #axis.plot(x_plot, (ac_plots[2][1] - np.min(ac_plots[2][1])) / (np.max(ac_plots[2][1]) - np.min(ac_plots[2][1])), label=ac_plots[2][0])\n",
    "    #axis.plot(x_plot, (ac_plots[3][1] - np.min(ac_plots[3][1])) / (np.max(ac_plots[3][1]) - np.min(ac_plots[3][1])), label=ac_plots[3][0])\n",
    "\n",
    "    axis.axvline(x_new, color=\"red\", label=\"x_next\", linestyle=\"--\")\n",
    "    axis.legend(loc=1, prop={'size': 10})\n",
    "    axis.set(xlabel=r\"$x$\", ylabel=r\"$f(x)$\")\n",
    "    axis.grid(True)"
   ]
  },
  {
   "cell_type": "code",
   "execution_count": 29,
   "id": "9e243ed6-1d36-4dcb-b287-d78d5bf521a9",
   "metadata": {},
   "outputs": [],
   "source": [
    "import statistics\n",
    "\n",
    "def target_function_list(X, repetition=10):\n",
    "    Y = []\n",
    "    for x in X:\n",
    "        mutation_rates = {\n",
    "            \"size\": x[0],\n",
    "            \"speed\": x[1],\n",
    "            \"vision\": x[2],\n",
    "            \"aggression\": x[3]\n",
    "        }\n",
    "        # items = []\n",
    "        total = 0\n",
    "        for i in range(repetition):\n",
    "            days_survived, log = main_simulator.run(mutation_rates, debug_info=DebugInfo(\n",
    "                period=10, should_display_day=False, should_display_grid=False, should_display_traits=False), max_days=10000)\n",
    "            #items.append(days_survived)\n",
    "            total += days_survived\n",
    "        #Y.append(statistics.median(items))\n",
    "        Y.append(total//repetition)\n",
    "    return np.array(Y)[:,np.newaxis]"
   ]
  },
  {
   "cell_type": "code",
   "execution_count": 264,
   "id": "910c6743-ae0f-48b8-b9bb-5070459829d6",
   "metadata": {},
   "outputs": [],
   "source": [
    "# Generate the initial points to start the training process\n",
    "\n",
    "def experiment_initialisation(space, num_data_points = 5):\n",
    "    design = RandomDesign(space) # Collect random points\n",
    "    X = design.get_samples(num_data_points)\n",
    "    Y = target_function_list(X)\n",
    "    return X, Y"
   ]
  },
  {
   "cell_type": "code",
   "execution_count": 265,
   "id": "d0f1340d-8021-4abf-805a-d5e61136c881",
   "metadata": {},
   "outputs": [],
   "source": [
    "def model_generation(X, Y, space, kernel = None):\n",
    "    if kernel is None:\n",
    "        kernel_rbf_1 = GPy.kern.RBF(input_dim=1, lengthscale=0.1, variance=1, active_dims=[0])\n",
    "        kernel_rbf_2 = GPy.kern.RBF(input_dim=1, lengthscale=0.1, variance=1, active_dims=[1])\n",
    "        kernel_rbf_3 = GPy.kern.RBF(input_dim=1, lengthscale=0.1, variance=1, active_dims=[2])\n",
    "        kernel_rbf_4 = GPy.kern.RBF(input_dim=1, lengthscale=0.1, variance=1, active_dims=[3])\n",
    "        kernel = kernel_rbf_1 + kernel_rbf_2 + kernel_rbf_3 + kernel_rbf_4\n",
    "    model_gpy = GPRegression(X,Y,kernel, noise_var=1) # Train and wrap the model in Emukit\n",
    "    model_emukit = GPyModelWrapper(model_gpy)\n",
    "    return model_emukit"
   ]
  },
  {
   "cell_type": "code",
   "execution_count": 266,
   "id": "6c8200ae-0183-4da5-ba25-4a3e3b604ef7",
   "metadata": {},
   "outputs": [],
   "source": [
    "iterations = 1000\n",
    "# The other mutation rates for the projection\n",
    "projection = 0\n",
    "# Along which trait is the function plotted: 0-size, 1-speed, 2-vision, 3-aggression\n",
    "plot = 0\n",
    "\n",
    "# returns the mean square error history of the iterations\n",
    "def train(modol_emukit, X, Y, space, acquisition, iterations = 1000, plot = 0, projection = 0):\n",
    "\n",
    "    file_path = 'training_logs/plot_' + str(plot) + '_projection_' + str(projection) + '_' + str(datetime.now())\n",
    "    os.makedirs(file_path)\n",
    "    figure, axis = plt.subplots(1, 2, figsize=(20, 6))\n",
    "    x_plot = np.linspace(0, 1, 1000)[:, None]\n",
    "    x_paddings = np.linspace(projection, projection, 1000)[:, None]\n",
    "    x_linear = np.linspace(0, 1, 1000)[:, None]\n",
    "\n",
    "    history = []\n",
    "    with open('dataset_test/mutation_rates.npy', 'rb') as f:\n",
    "      X_test = np.load(f)\n",
    "    with open('dataset_test/simulated_years_of_survival.npy', 'rb') as f:\n",
    "      y_test = np.load(f)\n",
    "\n",
    "    for j in range(plot):\n",
    "        x_plot = np.append(x_paddings, x_plot, axis = 1)\n",
    "    for j in range(3-plot):\n",
    "        x_plot = np.append(x_plot, x_paddings, axis = 1)\n",
    "    \n",
    "    for i in tqdm(range(iterations)):\n",
    "            \n",
    "        mu_plot, var_plot = model_emukit.predict(x_plot)\n",
    "        plot_prediction(X[:,plot],Y,x_linear,mu_plot,var_plot,axis[0])\n",
    "\n",
    "        predictions, _ = model_emukit.predict(X_test)\n",
    "        history.append(np.square(y_test - predictions).mean())\n",
    "        \n",
    "        ac_plot = (\"AF\", acquisition.evaluate(x_plot))\n",
    "        \n",
    "        optimizer = GradientAcquisitionOptimizer(space)\n",
    "        x_new, _ = optimizer.optimize(acquisition)\n",
    "\n",
    "        plot_acquisition_functions(x_linear, ac_plot, x_new[0][plot], axis[1])\n",
    "        print(\"Next position to query:\", x_new)\n",
    "        acquisition.debug(np.array(x_new))\n",
    "        y_new = target_function_list(x_new)\n",
    "        X = np.append(X, x_new, axis=0)\n",
    "        Y = np.append(Y, y_new, axis=0)\n",
    "        print(x_new, y_new)\n",
    "        model_emukit.set_data(X, Y)\n",
    "        plt.savefig(file_path + '/' + str(i) +'.png')\n",
    "        plt.clf()\n",
    "        figure, axis = plt.subplots(1, 2, figsize=(20, 6))\n",
    "        with open(file_path + '/history.npy', 'wb') as f:\n",
    "            np.save(f, np.array(history))\n",
    "    return history"
   ]
  },
  {
   "cell_type": "code",
   "execution_count": 60,
   "id": "3af151eb-1aeb-4d81-aad4-0242a479e55e",
   "metadata": {},
   "outputs": [],
   "source": [
    "def sensitivity_2d(X, sensitivity, x_a=0, y_a=1, projection = 0):\n",
    "    results = []\n",
    "    for x in X:\n",
    "        point = np.array([projection, projection, projection, projection])\n",
    "        point[x_a] = x[0]\n",
    "        point[y_a] = x[1]\n",
    "        results.append(sensitivity.compute_statistics(point)[0])\n",
    "    return np.array(results)"
   ]
  },
  {
   "cell_type": "code",
   "execution_count": null,
   "id": "cb75aa8c-aa81-4921-8044-797054f1eb7b",
   "metadata": {},
   "outputs": [],
   "source": [
    "sensitivity = MonteCarloSensitivity(model = model_emukit, input_domain = space)\n",
    "main_effects, total_effects, _ = sensitivity.compute_effects(num_monte_carlo_points = 10000)"
   ]
  },
  {
   "cell_type": "code",
   "execution_count": 251,
   "id": "310ec131-d413-438b-b05b-ce975bea15c8",
   "metadata": {},
   "outputs": [],
   "source": [
    "def plot_sensitivity_2d(model_emukit, x_a=0, y_a=1, projection = 0):\n",
    "    space = ParameterSpace([ContinuousParameter('size', 0, 1),\n",
    "                        ContinuousParameter('speed', 0, 1),\n",
    "                        ContinuousParameter('vision', 0, 1),\n",
    "                        ContinuousParameter('aggression', 0, 1)])\n",
    "    \n",
    "    sensitivity = MonteCarloSensitivity(model = model_emukit, input_domain = space)\n",
    "    main_effects, total_effects, _ = sensitivity.compute_effects(num_monte_carlo_points = 10000)\n",
    "    \n",
    "    x_axis = np.linspace(0, 1, 100)\n",
    "    y_axis = np.linspace(0, 1, 100)\n",
    "    \n",
    "    X_axis,Y_axis = np.meshgrid(x_axis, y_axis)\n",
    "    data = np.vstack([X_axis.ravel(), Y_axis.ravel()])\n",
    "    data = np.swapaxes(data,0,-1)\n",
    "    \n",
    "    plt.figure(figsize=(8,6))\n",
    "    plt.contourf(X_axis, Y_axis, sensitivity_2d(data, sensitivity, x_a, y_a, projection).reshape(X_axis.shape), levels=20)\n",
    "    plt.colorbar()\n",
    "    return main_effects, total_effects"
   ]
  },
  {
   "cell_type": "code",
   "execution_count": null,
   "id": "3e4c5cda-9d27-4c43-8e03-7254dfcfa1e0",
   "metadata": {},
   "outputs": [
    {
     "name": "stderr",
     "output_type": "stream",
     "text": [
      "  0%|                                                                                                                                                                                                                                                                                             | 0/10000 [00:00<?, ?it/s]"
     ]
    },
    {
     "name": "stdout",
     "output_type": "stream",
     "text": [
      "Next position to query: [[1.         0.88392653 0.76258581 0.90774858]]\n",
      "[135.73512881] [1.69631895] [396.36481333] [94.96205269]\n",
      "[[1.         0.88392653 0.76258581 0.90774858]] [[204]]\n"
     ]
    },
    {
     "name": "stderr",
     "output_type": "stream",
     "text": [
      "  0%|                                                                                                                                                                                                                                                                                  | 1/10000 [00:18<50:07:31, 18.05s/it]"
     ]
    },
    {
     "name": "stdout",
     "output_type": "stream",
     "text": [
      "Next position to query: [[1.        0.8844243 1.        1.       ]]\n",
      "[94.78590786] [1.88819358] [392.74420309] [96.15506962]\n",
      "[[1.        0.8844243 1.        1.       ]] [[238]]\n"
     ]
    },
    {
     "name": "stderr",
     "output_type": "stream",
     "text": [
      "  0%|                                                                                                                                                                                                                                                                                  | 2/10000 [00:37<51:59:26, 18.72s/it]"
     ]
    },
    {
     "name": "stdout",
     "output_type": "stream",
     "text": [
      "Next position to query: [[1. 0. 1. 1.]]\n",
      "[131.24126333] [1.93314643] [387.69441766] [98.94415029]\n",
      "[[1. 0. 1. 1.]] [[134]]\n"
     ]
    },
    {
     "name": "stderr",
     "output_type": "stream",
     "text": [
      "  0%|                                                                                                                                                                                                                                                                                  | 3/10000 [00:49<43:52:48, 15.80s/it]"
     ]
    },
    {
     "name": "stdout",
     "output_type": "stream",
     "text": [
      "Next position to query: [[1.         0.88392631 0.7625859  0.90774878]]\n",
      "[135.73512232] [1.69631906] [396.36481299] [94.96205528]\n",
      "[[1.         0.88392631 0.7625859  0.90774878]] [[229]]\n"
     ]
    },
    {
     "name": "stderr",
     "output_type": "stream",
     "text": [
      "  0%|                                                                                                                                                                                                                                                                                  | 4/10000 [01:08<47:15:10, 17.02s/it]"
     ]
    },
    {
     "name": "stdout",
     "output_type": "stream",
     "text": [
      "Next position to query: [[1. 0. 0. 1.]]\n",
      "[112.34375238] [1.90344091] [385.27391838] [97.48022726]\n",
      "[[1. 0. 0. 1.]] [[94]]\n"
     ]
    },
    {
     "name": "stderr",
     "output_type": "stream",
     "text": [
      "  0%|▏                                                                                                                                                                                                                                                                                 | 5/10000 [01:18<40:25:31, 14.56s/it]"
     ]
    },
    {
     "name": "stdout",
     "output_type": "stream",
     "text": [
      "Next position to query: [[1.         0.88489701 0.         0.91808203]]\n",
      "[76.79769364] [1.81900989] [388.88059077] [94.60458851]\n",
      "[[1.         0.88489701 0.         0.91808203]] [[132]]\n"
     ]
    },
    {
     "name": "stderr",
     "output_type": "stream",
     "text": [
      "  0%|▏                                                                                                                                                                                                                                                                                 | 6/10000 [01:32<39:33:00, 14.25s/it]"
     ]
    },
    {
     "name": "stdout",
     "output_type": "stream",
     "text": [
      "Next position to query: [[1. 0. 1. 1.]]\n",
      "[131.24126333] [1.93314643] [387.69441766] [98.94415029]\n",
      "[[1. 0. 1. 1.]] [[120]]\n"
     ]
    },
    {
     "name": "stderr",
     "output_type": "stream",
     "text": [
      "  0%|▏                                                                                                                                                                                                                                                                                 | 7/10000 [01:43<37:13:32, 13.41s/it]"
     ]
    },
    {
     "name": "stdout",
     "output_type": "stream",
     "text": [
      "Next position to query: [[1.         0.88442669 1.         0.91426608]]\n",
      "[95.74498545] [1.89118231] [393.25452703] [95.84143794]\n",
      "[[1.         0.88442669 1.         0.91426608]] [[202]]\n"
     ]
    },
    {
     "name": "stderr",
     "output_type": "stream",
     "text": [
      "  0%|▏                                                                                                                                                                                                                                                                                 | 8/10000 [02:01<40:52:36, 14.73s/it]"
     ]
    },
    {
     "name": "stdout",
     "output_type": "stream",
     "text": [
      "Next position to query: [[1.         0.88442428 1.         1.        ]]\n",
      "[94.7859078] [1.88819359] [392.7442032] [96.15506968]\n",
      "[[1.         0.88442428 1.         1.        ]] [[199]]\n"
     ]
    },
    {
     "name": "stderr",
     "output_type": "stream",
     "text": [
      "  0%|▏                                                                                                                                                                                                                                                                                 | 9/10000 [02:18<42:37:04, 15.36s/it]"
     ]
    },
    {
     "name": "stdout",
     "output_type": "stream",
     "text": [
      "Next position to query: [[1.         0.88442669 1.         0.91426607]]\n",
      "[95.74498546] [1.89118231] [393.2545271] [95.84143796]\n",
      "[[1.         0.88442669 1.         0.91426607]] [[240]]\n"
     ]
    },
    {
     "name": "stderr",
     "output_type": "stream",
     "text": [
      "  0%|▎                                                                                                                                                                                                                                                                                | 10/10000 [02:37<46:17:50, 16.68s/it]"
     ]
    },
    {
     "name": "stdout",
     "output_type": "stream",
     "text": [
      "Next position to query: [[1.         0.8844268  1.         0.91426584]]\n",
      "[95.74498962] [1.89118236] [393.25452745] [95.84143659]\n",
      "[[1.         0.8844268  1.         0.91426584]] [[242]]\n"
     ]
    },
    {
     "name": "stderr",
     "output_type": "stream",
     "text": [
      "  0%|▎                                                                                                                                                                                                                                                                                | 11/10000 [02:57<48:44:29, 17.57s/it]"
     ]
    },
    {
     "name": "stdout",
     "output_type": "stream",
     "text": [
      "Next position to query: [[1.         0.88489711 0.         0.91808186]]\n",
      "[76.79769651] [1.81900991] [388.88059051] [94.60458747]\n",
      "[[1.         0.88489711 0.         0.91808186]] [[139]]\n"
     ]
    },
    {
     "name": "stderr",
     "output_type": "stream",
     "text": [
      "  0%|▎                                                                                                                                                                                                                                                                                | 12/10000 [03:11<45:37:23, 16.44s/it]"
     ]
    },
    {
     "name": "stdout",
     "output_type": "stream",
     "text": [
      "Next position to query: [[1.         0.88442669 1.         0.91426613]]\n",
      "[95.7449846] [1.89118229] [393.25452683] [95.84143817]\n",
      "[[1.         0.88442669 1.         0.91426613]] [[206]]\n"
     ]
    },
    {
     "name": "stderr",
     "output_type": "stream",
     "text": [
      "  0%|▎                                                                                                                                                                                                                                                                                | 13/10000 [03:28<46:24:01, 16.73s/it]"
     ]
    },
    {
     "name": "stdout",
     "output_type": "stream",
     "text": [
      "Next position to query: [[1.        0.8844243 1.        1.       ]]\n",
      "[94.78590785] [1.88819358] [392.7442031] [96.15506963]\n",
      "[[1.        0.8844243 1.        1.       ]] [[212]]\n"
     ]
    },
    {
     "name": "stderr",
     "output_type": "stream",
     "text": [
      "  0%|▍                                                                                                                                                                                                                                                                                | 14/10000 [03:46<47:19:57, 17.06s/it]"
     ]
    },
    {
     "name": "stdout",
     "output_type": "stream",
     "text": [
      "Next position to query: [[1.         0.88442668 1.         0.91426598]]\n",
      "[95.74498693] [1.89118236] [393.25452764] [95.84143763]\n",
      "[[1.         0.88442668 1.         0.91426598]] [[221]]\n"
     ]
    },
    {
     "name": "stderr",
     "output_type": "stream",
     "text": [
      "  0%|▍                                                                                                                                                                                                                                                                                | 15/10000 [04:04<48:17:53, 17.41s/it]"
     ]
    },
    {
     "name": "stdout",
     "output_type": "stream",
     "text": [
      "Next position to query: [[1. 0. 0. 1.]]\n",
      "[112.34375238] [1.90344091] [385.27391838] [97.48022726]\n",
      "[[1. 0. 0. 1.]] [[93]]\n"
     ]
    },
    {
     "name": "stderr",
     "output_type": "stream",
     "text": [
      "  0%|▍                                                                                                                                                                                                                                                                                | 16/10000 [04:15<42:52:21, 15.46s/it]"
     ]
    },
    {
     "name": "stdout",
     "output_type": "stream",
     "text": [
      "Next position to query: [[1.         0.45167657 0.         0.92864103]]\n",
      "[113.0681686] [1.71251663] [388.40387035] [96.57711836]\n",
      "[[1.         0.45167657 0.         0.92864103]] [[174]]\n"
     ]
    },
    {
     "name": "stderr",
     "output_type": "stream",
     "text": [
      "  0%|▍                                                                                                                                                                                                                                                                                | 17/10000 [04:32<43:33:20, 15.71s/it]"
     ]
    },
    {
     "name": "stdout",
     "output_type": "stream",
     "text": [
      "Next position to query: [[0.5999434  0.88512176 0.         0.92952769]]\n",
      "[119.24085572] [1.76083878] [382.53843478] [95.37624734]\n",
      "[[0.5999434  0.88512176 0.         0.92952769]] [[162]]\n"
     ]
    },
    {
     "name": "stderr",
     "output_type": "stream",
     "text": [
      "  0%|▍                                                                                                                                                                                                                                                                                | 18/10000 [04:47<43:46:30, 15.79s/it]"
     ]
    },
    {
     "name": "stdout",
     "output_type": "stream",
     "text": [
      "Next position to query: [[1.         0.88442879 1.         0.91426613]]\n",
      "[95.7449932] [1.89118143] [393.25451163] [95.84142963]\n",
      "[[1.         0.88442879 1.         0.91426613]] [[230]]\n"
     ]
    },
    {
     "name": "stderr",
     "output_type": "stream",
     "text": [
      "  0%|▌                                                                                                                                                                                                                                                                                | 19/10000 [05:10<49:19:53, 17.79s/it]"
     ]
    },
    {
     "name": "stdout",
     "output_type": "stream",
     "text": [
      "Next position to query: [[1.         0.88489721 0.         0.91808158]]\n",
      "[76.79770069] [1.81900998] [388.88059025] [94.60458598]\n",
      "[[1.         0.88489721 0.         0.91808158]] [[136]]\n"
     ]
    },
    {
     "name": "stderr",
     "output_type": "stream",
     "text": [
      " /var/folders/8p/rl0cc1cx5h5301dxt0kcg54h0000gn/T/ipykernel_35240/2906769057.py:51: RuntimeWarning:More than 20 figures have been opened. Figures created through the pyplot interface (`matplotlib.pyplot.figure`) are retained until explicitly closed and may consume too much memory. (To control this warning, see the rcParam `figure.max_open_warning`). Consider using `matplotlib.pyplot.close()`.\n",
      "  0%|▌                                                                                                                                                                                                                                                                              | 20/10000 [22:08<882:00:33, 318.16s/it]"
     ]
    },
    {
     "name": "stdout",
     "output_type": "stream",
     "text": [
      "Next position to query: [[1. 0. 0. 1.]]\n",
      "[112.34375238] [1.90344091] [385.27391838] [97.48022726]\n",
      "[[1. 0. 0. 1.]] [[95]]\n"
     ]
    },
    {
     "name": "stderr",
     "output_type": "stream",
     "text": [
      "  0%|▌                                                                                                                                                                                                                                                                              | 21/10000 [22:24<630:39:56, 227.52s/it]"
     ]
    },
    {
     "name": "stdout",
     "output_type": "stream",
     "text": [
      "Next position to query: [[1.         0.88482703 0.         1.        ]]\n",
      "[75.89087917] [1.81811935] [388.79845927] [94.90040249]\n"
     ]
    }
   ],
   "source": [
    "space = ParameterSpace([ContinuousParameter('size', 0, 1),\n",
    "                            ContinuousParameter('speed', 0, 1),\n",
    "                            ContinuousParameter('vision', 0, 1),\n",
    "                            ContinuousParameter('aggression', 0, 1)])\n",
    "X, Y = experiment_initialisation(space,20)\n",
    "model = model_generation(X, Y, space)\n",
    "ce_acquisition = CrossEntropy(model,space)\n",
    "es_history = train(model, X, Y, space, ce_acquisition, 10000)"
   ]
  },
  {
   "cell_type": "code",
   "execution_count": 268,
   "id": "ecf0d832-a906-45b8-a640-a18e4021ffe9",
   "metadata": {},
   "outputs": [],
   "source": [
    "file_path = 'training_logs/plot_0_projection_0_2024-01-15 10:38:31.085964'\n",
    "with open(file_path + '/history.npy', 'rb') as f:\n",
    "    history = np.load(f)"
   ]
  },
  {
   "cell_type": "code",
   "execution_count": 269,
   "id": "45bdead6-ef27-42cf-b0c0-67a7b9b82bcd",
   "metadata": {},
   "outputs": [],
   "source": [
    "x = np.array([i for i in range(len(history))])"
   ]
  },
  {
   "cell_type": "code",
   "execution_count": 270,
   "id": "88c020b5-d0c2-437e-ad94-578b79cbaaa8",
   "metadata": {},
   "outputs": [
    {
     "data": {
      "text/plain": [
       "[<matplotlib.lines.Line2D at 0x28fc1d540>]"
      ]
     },
     "execution_count": 270,
     "metadata": {},
     "output_type": "execute_result"
    },
    {
     "data": {
      "image/png": "[encoded data removed]",
      "text/plain": [
       "<Figure size 640x480 with 1 Axes>"
      ]
     },
     "metadata": {},
     "output_type": "display_data"
    }
   ],
   "source": [
    "plt.plot(history)"
   ]
  },
  {
   "cell_type": "code",
   "execution_count": 85,
   "id": "afe24c33-1268-484d-a548-30e7cc038365",
   "metadata": {},
   "outputs": [],
   "source": [
    "import pickle\n",
    "with open(file_path+'/model.pkl', 'wb') as outp:\n",
    "    pickle.dump(model, outp, pickle.HIGHEST_PROTOCOL)"
   ]
  },
  {
   "cell_type": "code",
   "execution_count": 233,
   "id": "5dbd7a1a-4bac-4160-bec3-2d05c5ae8451",
   "metadata": {},
   "outputs": [],
   "source": [
    "import numpy as np\n",
    "import scipy.stats\n",
    "from typing import Tuple, Union\n",
    "from emukit.core.acquisition import Acquisition\n",
    "from emukit.core.interfaces import IDifferentiable, IJointlyDifferentiable, IModel, IModelWithNoise\n",
    "\n",
    "\n",
    "class CrossEntropy(Acquisition):\n",
    "    def __init__(self, model: Union[IModel, IDifferentiable],space: ParameterSpace, jitter: float = 0.0) -> None:\n",
    "        \"\"\"\n",
    "        For a given input, this acquisition computes the improvement over the current best observed value in\n",
    "        expectation. For more information see:\n",
    "\n",
    "        Efficient Global Optimization of Expensive Black-Box Functions\n",
    "        Jones, Donald R. and Schonlau, Matthias and Welch, William J.\n",
    "        Journal of Global Optimization\n",
    "\n",
    "        :param model: model that is used to compute the improvement.\n",
    "        :param jitter: parameter to encourage extra exploration.\n",
    "        \"\"\"\n",
    "\n",
    "        self.model = model\n",
    "        self.jitter = jitter\n",
    "        self.space = space\n",
    "\n",
    "    def evaluate(self, X: np.ndarray) -> np.ndarray:\n",
    "        ces = []\n",
    "        for x in X:\n",
    "            #print(x.shape,x)\n",
    "            predicted_mu, predicted_var = model.predict(np.array([x]))\n",
    "            predicted_mu = predicted_mu[0]\n",
    "            predicted_var = predicted_var[0]\n",
    "            observed_mu = (np.sqrt(np.sum((model.X-x)**2,axis=-1))/(np.sqrt(np.sum((model.X-x)**2,axis=-1))).sum()).dot(model.Y)\n",
    "            observed_x2 = (np.sqrt(np.sum((model.X-x)**2,axis=-1))/(np.sqrt(np.sum((model.X-x)**2,axis=-1))).sum()).dot(model.Y**2)\n",
    "            observed_std = np.sqrt(observed_x2-observed_mu**2)\n",
    "            predicted_std = np.sqrt(predicted_var)\n",
    "            # print(predicted_mu, predicted_std, observed_mu, observed_std)\n",
    "            temp = np.linspace(0, 1000, 1000)\n",
    "            pk = scipy.stats.norm.pdf(temp, loc=predicted_mu, scale=predicted_std)/scipy.stats.norm.pdf(temp, loc=predicted_mu, scale=predicted_std).sum()\n",
    "            qk = scipy.stats.norm.pdf(temp, loc=observed_mu, scale=observed_std)/scipy.stats.norm.pdf(temp, loc=observed_mu, scale=observed_std).sum()\n",
    "            ce = entropy(pk, base=2) + entropy(pk, qk, base=2)\n",
    "            ces.append([ce])\n",
    "        return np.array(ces)\n",
    "\n",
    "    def debug(self, X: np.ndarray) -> np.ndarray:\n",
    "        ces = []\n",
    "        for x in X:\n",
    "            #print(x.shape,x)\n",
    "            predicted_mu, predicted_var = model.predict(np.array([x]))\n",
    "            predicted_mu = predicted_mu[0]\n",
    "            predicted_var = predicted_var[0]\n",
    "            observed_mu = (np.sqrt(np.sum((model.X-x)**2,axis=-1))/(np.sqrt(np.sum((model.X-x)**2,axis=-1))).sum()).dot(model.Y)\n",
    "            observed_x2 = (np.sqrt(np.sum((model.X-x)**2,axis=-1))/(np.sqrt(np.sum((model.X-x)**2,axis=-1))).sum()).dot(model.Y**2)\n",
    "            observed_std = np.sqrt(observed_x2-observed_mu**2)\n",
    "            predicted_std = np.sqrt(predicted_var)\n",
    "            print(predicted_mu, predicted_std, observed_mu, observed_std)\n",
    "            temp = np.linspace(0, 1000, 1000)\n",
    "            pk = scipy.stats.norm.pdf(temp, loc=predicted_mu, scale=predicted_std)/scipy.stats.norm.pdf(temp, loc=predicted_mu, scale=predicted_std).sum()\n",
    "            qk = scipy.stats.norm.pdf(temp, loc=observed_mu, scale=observed_std)/scipy.stats.norm.pdf(temp, loc=observed_mu, scale=observed_std).sum()\n",
    "            ce = entropy(pk, base=2) + entropy(pk, qk, base=2)\n",
    "            ces.append([ce])\n",
    "        return np.array(ces)\n",
    "\n",
    "\n",
    "    @property\n",
    "    def has_gradients(self) -> bool:\n",
    "        \"\"\"Returns that this acquisition has gradients\"\"\"\n",
    "        return False\n",
    "\n",
    "    def _get_model_predictions(self, x: np.ndarray) -> Tuple[np.ndarray, np.ndarray]:\n",
    "        \"\"\"Get model predictions for the function values at given input locations.\"\"\"\n",
    "        return self.model.predict(x)\n",
    "\n",
    "    def _get_y_minimum(self) -> np.ndarray:\n",
    "        \"\"\"Return the minimum value in the samples observed so far.\"\"\"\n",
    "        return np.min(self.model.Y, axis=0)\n"
   ]
  },
  {
   "cell_type": "code",
   "execution_count": null,
   "id": "fd4e1178-a49e-47d7-9219-90ccf0af73dc",
   "metadata": {},
   "outputs": [],
   "source": []
  }
 ],
 "metadata": {
  "kernelspec": {
   "display_name": "Python 3 (ipykernel)",
   "language": "python",
   "name": "python3"
  },
  "language_info": {
   "codemirror_mode": {
    "name": "ipython",
    "version": 3
   },
   "file_extension": ".py",
   "mimetype": "text/x-python",
   "name": "python",
   "nbconvert_exporter": "python",
   "pygments_lexer": "ipython3",
   "version": "3.10.13"
  }
 },
 "nbformat": 4,
 "nbformat_minor": 5
}
