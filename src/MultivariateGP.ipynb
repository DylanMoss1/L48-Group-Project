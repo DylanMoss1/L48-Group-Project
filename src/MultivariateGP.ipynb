{
 "cells": [
  {
   "cell_type": "code",
   "execution_count": 9,
   "id": "a64a595b-ad7f-423b-b704-c13c246c7c95",
   "metadata": {},
   "outputs": [],
   "source": [
    "from typing import Tuple\n",
    "import numpy as np\n",
    "import deepgp\n",
    "import matplotlib.pyplot as plt\n",
    "from datetime import datetime\n",
    "import os\n",
    "\n",
    "import GPy\n",
    "from GPy.models import GPRegression\n",
    "from emukit.test_functions import forrester_function\n",
    "from emukit.core.initial_designs import RandomDesign\n",
    "from emukit.model_wrappers import GPyModelWrapper\n",
    "from emukit.bayesian_optimization.acquisitions import ExpectedImprovement, NegativeLowerConfidenceBound, ProbabilityOfImprovement, EntropySearch\n",
    "from emukit.core.optimization import GradientAcquisitionOptimizer\n",
    "from emukit.core.initial_designs import RandomDesign\n",
    "from emukit.core import ParameterSpace, ContinuousParameter\n",
    "from emukit.sensitivity.monte_carlo import MonteCarloSensitivity\n",
    "from gpflow.kernels import RBF, White, Linear\n",
    "from tqdm import tqdm\n",
    "\n",
    "from simulator import MainSimulator, TinySimulator\n",
    "from world import DebugInfo\n",
    "from pprint import pprint\n",
    "\n",
    "main_simulator = MainSimulator()"
   ]
  },
  {
   "cell_type": "code",
   "execution_count": 10,
   "id": "652c42c1-0bcb-479a-8c2c-9caedf4d7208",
   "metadata": {},
   "outputs": [],
   "source": [
    "def plot_prediction(X,Y,x_plot,mu_plot,var_plot,axis):\n",
    "    axis.plot(X, Y, \"ro\", markersize=10, label=\"Observations\")\n",
    "    axis.plot(x_plot[:, 0], mu_plot[:, 0], \"C0\", label=\"Model\")\n",
    "    axis.fill_between(x_plot[:, 0],\n",
    "                     mu_plot[:, 0] + np.sqrt(var_plot)[:, 0],\n",
    "                     mu_plot[:, 0] - np.sqrt(var_plot)[:, 0], color=\"C0\", alpha=0.6)\n",
    "    axis.fill_between(x_plot[:, 0],\n",
    "                     mu_plot[:, 0] + 2 * np.sqrt(var_plot)[:, 0],\n",
    "                     mu_plot[:, 0] - 2 * np.sqrt(var_plot)[:, 0], color=\"C0\", alpha=0.4)\n",
    "    axis.fill_between(x_plot[:, 0],\n",
    "                     mu_plot[:, 0] + 3 * np.sqrt(var_plot)[:, 0],\n",
    "                     mu_plot[:, 0] - 3 * np.sqrt(var_plot)[:, 0], color=\"C0\", alpha=0.2)\n",
    "    axis.legend(loc=2, prop={'size': 10})\n",
    "    axis.set(xlabel=r\"$x$\", ylabel=r\"$f(x)$\")\n",
    "    axis.grid(True)"
   ]
  },
  {
   "cell_type": "code",
   "execution_count": 11,
   "id": "4012e313-e4f0-451d-b5f9-0f0c7553ebd3",
   "metadata": {},
   "outputs": [],
   "source": [
    "def plot_acquisition_functions(x_plot, ac_plots, x_new, axis):\n",
    "    axis.plot(x_plot, (ac_plots[0][1] - np.min(ac_plots[0][1])) / (np.max(ac_plots[0][1]) - np.min(ac_plots[0][1])), label=ac_plots[0][0])\n",
    "    axis.plot(x_plot, (ac_plots[1][1] - np.min(ac_plots[1][1])) / (np.max(ac_plots[1][1]) - np.min(ac_plots[1][1])), label=ac_plots[1][0])\n",
    "    axis.plot(x_plot, (ac_plots[2][1] - np.min(ac_plots[2][1])) / (np.max(ac_plots[2][1]) - np.min(ac_plots[2][1])), label=ac_plots[2][0])\n",
    "    axis.plot(x_plot, (ac_plots[3][1] - np.min(ac_plots[3][1])) / (np.max(ac_plots[3][1]) - np.min(ac_plots[3][1])), label=ac_plots[3][0])\n",
    "\n",
    "    axis.axvline(x_new, color=\"red\", label=\"x_next\", linestyle=\"--\")\n",
    "    axis.legend(loc=1, prop={'size': 10})\n",
    "    axis.set(xlabel=r\"$x$\", ylabel=r\"$f(x)$\")\n",
    "    axis.grid(True)"
   ]
  },
  {
   "cell_type": "code",
   "execution_count": 12,
   "id": "9e243ed6-1d36-4dcb-b287-d78d5bf521a9",
   "metadata": {},
   "outputs": [],
   "source": [
    "def target_function_list(X, repetition=1):\n",
    "    Y = []\n",
    "    for x in X:\n",
    "        mutation_rates = {\n",
    "            \"size\": x[0],\n",
    "            \"speed\": x[1],\n",
    "            \"vision\": x[2],\n",
    "            \"aggression\": x[3]\n",
    "        }\n",
    "        total = 0\n",
    "        for i in range(repetition):\n",
    "            days_survived, log = main_simulator.run(mutation_rates, debug_info=DebugInfo(\n",
    "                period=10, should_display_day=False, should_display_grid=False, should_display_traits=False), max_days=10000)\n",
    "            total = total + days_survived\n",
    "        Y.append(total//repetition)\n",
    "    return np.array(Y)[:,np.newaxis]"
   ]
  },
  {
   "cell_type": "code",
   "execution_count": 13,
   "id": "910c6743-ae0f-48b8-b9bb-5070459829d6",
   "metadata": {},
   "outputs": [],
   "source": [
    "space = ParameterSpace([ContinuousParameter('size', 0, 1),\n",
    "                        ContinuousParameter('speed', 0, 1),\n",
    "                        ContinuousParameter('vision', 0, 1),\n",
    "                        ContinuousParameter('aggression', 0, 1)])\n",
    "design = RandomDesign(space) # Collect random points\n",
    "num_data_points = 5\n",
    "X = design.get_samples(num_data_points)\n",
    "Y = target_function_list(X)"
   ]
  },
  {
   "cell_type": "code",
   "execution_count": 14,
   "id": "d0f1340d-8021-4abf-805a-d5e61136c881",
   "metadata": {},
   "outputs": [],
   "source": [
    "kernel_rbf_1 = GPy.kern.RBF(input_dim=1, lengthscale=0.05, variance=100, active_dims=[0])\n",
    "kernel_rbf_2 = GPy.kern.RBF(input_dim=1, lengthscale=0.05, variance=100, active_dims=[1])\n",
    "kernel_rbf_3 = GPy.kern.RBF(input_dim=1, lengthscale=0.05, variance=100, active_dims=[2])\n",
    "kernel_rbf_4 = GPy.kern.RBF(input_dim=1, lengthscale=0.05, variance=100, active_dims=[3])\n",
    "kernel = kernel_rbf_1 + kernel_rbf_2 + kernel_rbf_3 + kernel_rbf_4\n",
    "model_gpy = GPRegression(X,Y,kernel, noise_var=10) # Train and wrap the model in Emukit\n",
    "model_emukit = GPyModelWrapper(model_gpy)"
   ]
  },
  {
   "cell_type": "code",
   "execution_count": 15,
   "id": "1e0ca906-2e37-40b3-9057-e926ed1dd898",
   "metadata": {},
   "outputs": [],
   "source": [
    "ei_acquisition = ExpectedImprovement(model = model_emukit)\n",
    "nlcb_acquisition = NegativeLowerConfidenceBound(model = model_emukit)\n",
    "pi_acquisition = ProbabilityOfImprovement(model = model_emukit)\n",
    "es_acquisition = EntropySearch(model = model_emukit, space = space)"
   ]
  },
  {
   "cell_type": "code",
   "execution_count": null,
   "id": "6c8200ae-0183-4da5-ba25-4a3e3b604ef7",
   "metadata": {},
   "outputs": [
    {
     "name": "stderr",
     "output_type": "stream",
     "text": [
      "  0%|                                                                                                                                                                                                                                                                                              | 0/1000 [00:00<?, ?it/s]"
     ]
    }
   ],
   "source": [
    "iterations = 1000\n",
    "# The other mutation rates for the projection\n",
    "projection = 0\n",
    "# Along which trait is the function plotted: 0-size, 1-speed, 2-vision, 3-aggression\n",
    "plot = 0\n",
    "\n",
    "file_path = 'training_logs/plot_' + str(plot) + '_projection_' + str(projection) + '_' + str(datetime.now())\n",
    "os.makedirs(file_path)\n",
    "figure, axis = plt.subplots(1, 2, figsize=(20, 6))\n",
    "x_plot = np.linspace(0, 1, 1000)[:, None]\n",
    "x_paddings = np.linspace(projection, projection, 1000)[:, None]\n",
    "x_linear = np.linspace(0, 1, 1000)[:, None]\n",
    "\n",
    "for i in tqdm(range(iterations)):\n",
    "    for j in range(plot):\n",
    "        x_plot = np.append(x_paddings, x_plot, axis = 1)\n",
    "    for j in range(3-plot):\n",
    "        x_plot = np.append(x_plot, x_paddings, axis = 1)\n",
    "        \n",
    "    mu_plot, var_plot = model_emukit.predict(x_plot)\n",
    "    plot_prediction(X[:,plot],Y,x_linear,mu_plot,var_plot,axis[0])\n",
    "    \n",
    "    ei_plot = (\"EI\",ei_acquisition.evaluate(x_plot))\n",
    "    nlcb_plot = (\"NLCB\",nlcb_acquisition.evaluate(x_plot))\n",
    "    pi_plot = (\"PI\",pi_acquisition.evaluate(x_plot))\n",
    "    es_plot = (\"ES\",es_acquisition.evaluate(x_plot))\n",
    "    \n",
    "    optimizer = GradientAcquisitionOptimizer(ParameterSpace([ContinuousParameter('size', 0, 1),\n",
    "                                                             ContinuousParameter('speed', 0, 1),\n",
    "                                                             ContinuousParameter('vision', 0, 1),\n",
    "                                                             ContinuousParameter('aggression', 0, 1)]))\n",
    "    x_new, _ = optimizer.optimize(es_acquisition)\n",
    "    plot_acquisition_functions(x_linear, [ei_plot,nlcb_plot,pi_plot,es_plot], x_new[0][plot], axis[1])\n",
    "    print(\"Next position to query:\", x_new)\n",
    "    \n",
    "    y_new = target_function_list(x_new)\n",
    "    X = np.append(X, x_new, axis=0)\n",
    "    Y = np.append(Y, y_new, axis=0)\n",
    "    model_emukit.set_data(X, Y)\n",
    "    plt.savefig(file_path + '/' + str(i) +'.png')\n",
    "    plt.clf()\n",
    "    figure, axis = plt.subplots(1, 2, figsize=(20, 6))"
   ]
  },
  {
   "cell_type": "code",
   "execution_count": null,
   "id": "3af151eb-1aeb-4d81-aad4-0242a479e55e",
   "metadata": {},
   "outputs": [],
   "source": [
    "def sensitivity_2d(X,sensitivity):\n",
    "    results = []\n",
    "    for x in X:\n",
    "        results.append(sensitivity.compute_statistics(np.array([x[0],x[1],projection,projection]))[1])\n",
    "    return np.array(results)"
   ]
  },
  {
   "cell_type": "code",
   "execution_count": null,
   "id": "cb75aa8c-aa81-4921-8044-797054f1eb7b",
   "metadata": {},
   "outputs": [],
   "source": [
    "sensitivity = MonteCarloSensitivity(model = model_emukit, input_domain = space)\n",
    "main_effects, total_effects, _ = sensitivity.compute_effects(num_monte_carlo_points = 10000)"
   ]
  },
  {
   "cell_type": "code",
   "execution_count": null,
   "id": "310ec131-d413-438b-b05b-ce975bea15c8",
   "metadata": {},
   "outputs": [],
   "source": [
    "x_axis = np.linspace(0, 10, 100)\n",
    "y_axis = np.linspace(0, 10, 100)\n",
    "\n",
    "X_axis,Y_axis = np.meshgrid(x_axis, y_axis)\n",
    "data = np.vstack([X_axis.ravel(), Y_axis.ravel()])\n",
    "data = np.swapaxes(data,0,-1)\n",
    "\n",
    "plt.figure(figsize=(8,6))\n",
    "plt.contourf(X_axis, Y_axis, sensitivity_2d(data,sensitivity).reshape(X_axis.shape), levels=20)\n",
    "plt.colorbar();"
   ]
  },
  {
   "cell_type": "code",
   "execution_count": 33,
   "id": "71a94dbd-0765-4c90-846c-c0b9ce754bd4",
   "metadata": {},
   "outputs": [
    {
     "ename": "AttributeError",
     "evalue": "module 'numpy' has no attribute 'int'",
     "output_type": "error",
     "traceback": [
      "\u001b[0;31m---------------------------------------------------------------------------\u001b[0m",
      "\u001b[0;31mAttributeError\u001b[0m                            Traceback (most recent call last)",
      "Cell \u001b[0;32mIn[33], line 1\u001b[0m\n\u001b[0;32m----> 1\u001b[0m \u001b[43mmodel_emukit\u001b[49m\u001b[38;5;241;43m.\u001b[39;49m\u001b[43mmodel\u001b[49m\u001b[38;5;241;43m.\u001b[39;49m\u001b[43mplot\u001b[49m\u001b[43m(\u001b[49m\u001b[43mfixed_inputs\u001b[49m\u001b[38;5;241;43m=\u001b[39;49m\u001b[43m[\u001b[49m\u001b[43m(\u001b[49m\u001b[38;5;241;43m2\u001b[39;49m\u001b[43m,\u001b[49m\u001b[38;5;241;43m0\u001b[39;49m\u001b[43m)\u001b[49m\u001b[43m,\u001b[49m\u001b[43m(\u001b[49m\u001b[38;5;241;43m3\u001b[39;49m\u001b[43m,\u001b[49m\u001b[38;5;241;43m0\u001b[39;49m\u001b[43m)\u001b[49m\u001b[43m]\u001b[49m\u001b[43m)\u001b[49m\n",
      "File \u001b[0;32m~/.pyenv/versions/3.10.13/lib/python3.10/site-packages/GPy/plotting/gpy_plot/gp_plots.py:334\u001b[0m, in \u001b[0;36mplot\u001b[0;34m(self, plot_limits, fixed_inputs, resolution, plot_raw, apply_link, which_data_ycols, which_data_rows, visible_dims, levels, samples, samples_likelihood, lower, upper, plot_data, plot_inducing, plot_density, predict_kw, projection, legend, **kwargs)\u001b[0m\n\u001b[1;32m    331\u001b[0m     kwargs[\u001b[38;5;124m'\u001b[39m\u001b[38;5;124mylim\u001b[39m\u001b[38;5;124m'\u001b[39m] \u001b[38;5;241m=\u001b[39m (xmin[\u001b[38;5;241m1\u001b[39m], xmax[\u001b[38;5;241m1\u001b[39m])\n\u001b[1;32m    333\u001b[0m canvas, _ \u001b[38;5;241m=\u001b[39m pl()\u001b[38;5;241m.\u001b[39mnew_canvas(projection\u001b[38;5;241m=\u001b[39mprojection, \u001b[38;5;241m*\u001b[39m\u001b[38;5;241m*\u001b[39mkwargs)\n\u001b[0;32m--> 334\u001b[0m helper_prediction \u001b[38;5;241m=\u001b[39m \u001b[43mhelper_predict_with_model\u001b[49m\u001b[43m(\u001b[49m\u001b[38;5;28;43mself\u001b[39;49m\u001b[43m,\u001b[49m\u001b[43m \u001b[49m\u001b[43mhelper_data\u001b[49m\u001b[43m[\u001b[49m\u001b[38;5;241;43m2\u001b[39;49m\u001b[43m]\u001b[49m\u001b[43m,\u001b[49m\u001b[43m \u001b[49m\u001b[43mplot_raw\u001b[49m\u001b[43m,\u001b[49m\n\u001b[1;32m    335\u001b[0m \u001b[43m                                      \u001b[49m\u001b[43mapply_link\u001b[49m\u001b[43m,\u001b[49m\u001b[43m \u001b[49m\u001b[43mnp\u001b[49m\u001b[38;5;241;43m.\u001b[39;49m\u001b[43mlinspace\u001b[49m\u001b[43m(\u001b[49m\u001b[38;5;241;43m2.5\u001b[39;49m\u001b[43m,\u001b[49m\u001b[43m \u001b[49m\u001b[38;5;241;43m97.5\u001b[39;49m\u001b[43m,\u001b[49m\u001b[43m \u001b[49m\u001b[43mlevels\u001b[49m\u001b[38;5;241;43m*\u001b[39;49m\u001b[38;5;241;43m2\u001b[39;49m\u001b[43m)\u001b[49m\u001b[43m \u001b[49m\u001b[38;5;28;43;01mif\u001b[39;49;00m\u001b[43m \u001b[49m\u001b[43mplot_density\u001b[49m\u001b[43m \u001b[49m\u001b[38;5;28;43;01melse\u001b[39;49;00m\u001b[43m \u001b[49m\u001b[43m(\u001b[49m\u001b[43mlower\u001b[49m\u001b[43m,\u001b[49m\u001b[43mupper\u001b[49m\u001b[43m)\u001b[49m\u001b[43m,\u001b[49m\n\u001b[1;32m    336\u001b[0m \u001b[43m                                      \u001b[49m\u001b[43mget_which_data_ycols\u001b[49m\u001b[43m(\u001b[49m\u001b[38;5;28;43mself\u001b[39;49m\u001b[43m,\u001b[49m\u001b[43m \u001b[49m\u001b[43mwhich_data_ycols\u001b[49m\u001b[43m)\u001b[49m\u001b[43m,\u001b[49m\n\u001b[1;32m    337\u001b[0m \u001b[43m                                      \u001b[49m\u001b[43mpredict_kw\u001b[49m\u001b[43m,\u001b[49m\u001b[43m \u001b[49m\u001b[43msamples\u001b[49m\u001b[43m)\u001b[49m\n\u001b[1;32m    338\u001b[0m \u001b[38;5;28;01mif\u001b[39;00m plot_raw \u001b[38;5;129;01mand\u001b[39;00m \u001b[38;5;129;01mnot\u001b[39;00m apply_link:\n\u001b[1;32m    339\u001b[0m     \u001b[38;5;66;03m# It does not make sense to plot the data (which lives not in the latent function space) into latent function space.\u001b[39;00m\n\u001b[1;32m    340\u001b[0m     plot_data \u001b[38;5;241m=\u001b[39m \u001b[38;5;28;01mFalse\u001b[39;00m\n",
      "File \u001b[0;32m~/.pyenv/versions/3.10.13/lib/python3.10/site-packages/GPy/plotting/gpy_plot/plot_util.py:75\u001b[0m, in \u001b[0;36mhelper_predict_with_model\u001b[0;34m(self, Xgrid, plot_raw, apply_link, percentiles, which_data_ycols, predict_kw, samples)\u001b[0m\n\u001b[1;32m     73\u001b[0m     predict_kw[\u001b[38;5;124m'\u001b[39m\u001b[38;5;124mY_metadata\u001b[39m\u001b[38;5;124m'\u001b[39m] \u001b[38;5;241m=\u001b[39m {}\n\u001b[1;32m     74\u001b[0m \u001b[38;5;28;01mif\u001b[39;00m \u001b[38;5;124m'\u001b[39m\u001b[38;5;124moutput_index\u001b[39m\u001b[38;5;124m'\u001b[39m \u001b[38;5;129;01mnot\u001b[39;00m \u001b[38;5;129;01min\u001b[39;00m predict_kw[\u001b[38;5;124m'\u001b[39m\u001b[38;5;124mY_metadata\u001b[39m\u001b[38;5;124m'\u001b[39m]:\n\u001b[0;32m---> 75\u001b[0m     predict_kw[\u001b[38;5;124m'\u001b[39m\u001b[38;5;124mY_metadata\u001b[39m\u001b[38;5;124m'\u001b[39m][\u001b[38;5;124m'\u001b[39m\u001b[38;5;124moutput_index\u001b[39m\u001b[38;5;124m'\u001b[39m] \u001b[38;5;241m=\u001b[39m Xgrid[:,\u001b[38;5;241m-\u001b[39m\u001b[38;5;241m1\u001b[39m:]\u001b[38;5;241m.\u001b[39mastype(\u001b[43mnp\u001b[49m\u001b[38;5;241;43m.\u001b[39;49m\u001b[43mint\u001b[49m)\n\u001b[1;32m     77\u001b[0m mu, _ \u001b[38;5;241m=\u001b[39m \u001b[38;5;28mself\u001b[39m\u001b[38;5;241m.\u001b[39mpredict(Xgrid, \u001b[38;5;241m*\u001b[39m\u001b[38;5;241m*\u001b[39mpredict_kw)\n\u001b[1;32m     79\u001b[0m \u001b[38;5;28;01mif\u001b[39;00m percentiles \u001b[38;5;129;01mis\u001b[39;00m \u001b[38;5;129;01mnot\u001b[39;00m \u001b[38;5;28;01mNone\u001b[39;00m:\n",
      "File \u001b[0;32m~/.pyenv/versions/3.10.13/lib/python3.10/site-packages/numpy/__init__.py:284\u001b[0m, in \u001b[0;36m__getattr__\u001b[0;34m(attr)\u001b[0m\n\u001b[1;32m    281\u001b[0m     \u001b[38;5;28;01mfrom\u001b[39;00m \u001b[38;5;21;01m.\u001b[39;00m\u001b[38;5;21;01mtesting\u001b[39;00m \u001b[38;5;28;01mimport\u001b[39;00m Tester\n\u001b[1;32m    282\u001b[0m     \u001b[38;5;28;01mreturn\u001b[39;00m Tester\n\u001b[0;32m--> 284\u001b[0m \u001b[38;5;28;01mraise\u001b[39;00m \u001b[38;5;167;01mAttributeError\u001b[39;00m(\u001b[38;5;124m\"\u001b[39m\u001b[38;5;124mmodule \u001b[39m\u001b[38;5;132;01m{!r}\u001b[39;00m\u001b[38;5;124m has no attribute \u001b[39m\u001b[38;5;124m\"\u001b[39m\n\u001b[1;32m    285\u001b[0m                      \u001b[38;5;124m\"\u001b[39m\u001b[38;5;132;01m{!r}\u001b[39;00m\u001b[38;5;124m\"\u001b[39m\u001b[38;5;241m.\u001b[39mformat(\u001b[38;5;18m__name__\u001b[39m, attr))\n",
      "\u001b[0;31mAttributeError\u001b[0m: module 'numpy' has no attribute 'int'"
     ]
    },
    {
     "data": {
      "image/png": "[encoded data removed]",
      "text/plain": [
       "<Figure size 640x480 with 1 Axes>"
      ]
     },
     "metadata": {},
     "output_type": "display_data"
    }
   ],
   "source": [
    "model_emukit.model.plot(fixed_inputs=[(2,0),(3,0)])"
   ]
  }
 ],
 "metadata": {
  "kernelspec": {
   "display_name": "Python 3 (ipykernel)",
   "language": "python",
   "name": "python3"
  },
  "language_info": {
   "codemirror_mode": {
    "name": "ipython",
    "version": 3
   },
   "file_extension": ".py",
   "mimetype": "text/x-python",
   "name": "python",
   "nbconvert_exporter": "python",
   "pygments_lexer": "ipython3",
   "version": "3.10.13"
  }
 },
 "nbformat": 4,
 "nbformat_minor": 5
}
