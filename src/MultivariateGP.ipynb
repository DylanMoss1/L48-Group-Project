{
 "cells": [
  {
   "cell_type": "code",
   "execution_count": 9,
   "id": "a64a595b-ad7f-423b-b704-c13c246c7c95",
   "metadata": {},
   "outputs": [],
   "source": [
    "from typing import Tuple\n",
    "import numpy as np\n",
    "import deepgp\n",
    "import matplotlib.pyplot as plt\n",
    "from datetime import datetime\n",
    "import os\n",
    "\n",
    "import GPy\n",
    "from GPy.models import GPRegression\n",
    "from emukit.test_functions import forrester_function\n",
    "from emukit.core.initial_designs import RandomDesign\n",
    "from emukit.model_wrappers import GPyModelWrapper\n",
    "from emukit.bayesian_optimization.acquisitions import ExpectedImprovement, NegativeLowerConfidenceBound, ProbabilityOfImprovement, EntropySearch\n",
    "from emukit.core.optimization import GradientAcquisitionOptimizer\n",
    "from emukit.core.initial_designs import RandomDesign\n",
    "from emukit.core import ParameterSpace, ContinuousParameter\n",
    "from emukit.sensitivity.monte_carlo import MonteCarloSensitivity\n",
    "from gpflow.kernels import RBF, White, Linear\n",
    "from tqdm import tqdm\n",
    "\n",
    "from simulator import MainSimulator, TinySimulator\n",
    "from world import DebugInfo\n",
    "from pprint import pprint\n",
    "\n",
    "main_simulator = MainSimulator()"
   ]
  },
  {
   "cell_type": "code",
   "execution_count": 10,
   "id": "652c42c1-0bcb-479a-8c2c-9caedf4d7208",
   "metadata": {},
   "outputs": [],
   "source": [
    "def plot_prediction(X,Y,x_plot,mu_plot,var_plot,axis):\n",
    "    axis.plot(X, Y, \"ro\", markersize=10, label=\"Observations\")\n",
    "    axis.plot(x_plot[:, 0], mu_plot[:, 0], \"C0\", label=\"Model\")\n",
    "    axis.fill_between(x_plot[:, 0],\n",
    "                     mu_plot[:, 0] + np.sqrt(var_plot)[:, 0],\n",
    "                     mu_plot[:, 0] - np.sqrt(var_plot)[:, 0], color=\"C0\", alpha=0.6)\n",
    "    axis.fill_between(x_plot[:, 0],\n",
    "                     mu_plot[:, 0] + 2 * np.sqrt(var_plot)[:, 0],\n",
    "                     mu_plot[:, 0] - 2 * np.sqrt(var_plot)[:, 0], color=\"C0\", alpha=0.4)\n",
    "    axis.fill_between(x_plot[:, 0],\n",
    "                     mu_plot[:, 0] + 3 * np.sqrt(var_plot)[:, 0],\n",
    "                     mu_plot[:, 0] - 3 * np.sqrt(var_plot)[:, 0], color=\"C0\", alpha=0.2)\n",
    "    axis.legend(loc=2, prop={'size': 10})\n",
    "    axis.set(xlabel=r\"$x$\", ylabel=r\"$f(x)$\")\n",
    "    axis.grid(True)"
   ]
  },
  {
   "cell_type": "code",
   "execution_count": 11,
   "id": "4012e313-e4f0-451d-b5f9-0f0c7553ebd3",
   "metadata": {},
   "outputs": [],
   "source": [
    "def plot_acquisition_functions(x_plot, ac_plots, x_new, axis):\n",
    "    axis.plot(x_plot, (ac_plots[0][1] - np.min(ac_plots[0][1])) / (np.max(ac_plots[0][1]) - np.min(ac_plots[0][1])), label=ac_plots[0][0])\n",
    "    axis.plot(x_plot, (ac_plots[1][1] - np.min(ac_plots[1][1])) / (np.max(ac_plots[1][1]) - np.min(ac_plots[1][1])), label=ac_plots[1][0])\n",
    "    axis.plot(x_plot, (ac_plots[2][1] - np.min(ac_plots[2][1])) / (np.max(ac_plots[2][1]) - np.min(ac_plots[2][1])), label=ac_plots[2][0])\n",
    "    axis.plot(x_plot, (ac_plots[3][1] - np.min(ac_plots[3][1])) / (np.max(ac_plots[3][1]) - np.min(ac_plots[3][1])), label=ac_plots[3][0])\n",
    "\n",
    "    axis.axvline(x_new, color=\"red\", label=\"x_next\", linestyle=\"--\")\n",
    "    axis.legend(loc=1, prop={'size': 10})\n",
    "    axis.set(xlabel=r\"$x$\", ylabel=r\"$f(x)$\")\n",
    "    axis.grid(True)"
   ]
  },
  {
   "cell_type": "code",
   "execution_count": 29,
   "id": "9e243ed6-1d36-4dcb-b287-d78d5bf521a9",
   "metadata": {},
   "outputs": [],
   "source": [
    "import statistics\n",
    "\n",
    "def target_function_list(X, repetition=10):\n",
    "    Y = []\n",
    "    for x in X:\n",
    "        mutation_rates = {\n",
    "            \"size\": x[0],\n",
    "            \"speed\": x[1],\n",
    "            \"vision\": x[2],\n",
    "            \"aggression\": x[3]\n",
    "        }\n",
    "        # items = []\n",
    "        total = 0\n",
    "        for i in range(repetition):\n",
    "            days_survived, log = main_simulator.run(mutation_rates, debug_info=DebugInfo(\n",
    "                period=10, should_display_day=False, should_display_grid=False, should_display_traits=False), max_days=10000)\n",
    "            #items.append(days_survived)\n",
    "            total += days_survived\n",
    "        #Y.append(statistics.median(items))\n",
    "        Y.append(total//repetition)\n",
    "    return np.array(Y)[:,np.newaxis]"
   ]
  },
  {
   "cell_type": "code",
   "execution_count": 30,
   "id": "910c6743-ae0f-48b8-b9bb-5070459829d6",
   "metadata": {},
   "outputs": [],
   "source": [
    "# Generate the initial points to start the training process\n",
    "def experiment_initialisation(num_data_points = 5):\n",
    "    space = ParameterSpace([ContinuousParameter('size', 0, 1),\n",
    "                            ContinuousParameter('speed', 0, 1),\n",
    "                            ContinuousParameter('vision', 0, 1),\n",
    "                            ContinuousParameter('aggression', 0, 1)])\n",
    "    design = RandomDesign(space) # Collect random points\n",
    "    X = design.get_samples(num_data_points)\n",
    "    Y = target_function_list(X)\n",
    "    return X, Y"
   ]
  },
  {
   "cell_type": "code",
   "execution_count": 41,
   "id": "d0f1340d-8021-4abf-805a-d5e61136c881",
   "metadata": {},
   "outputs": [],
   "source": [
    "def model_generation(X, Y, kernel = None):\n",
    "    if kernel is None:\n",
    "        kernel_rbf_1 = GPy.kern.RBF(input_dim=1, lengthscale=0.05, variance=10, active_dims=[0])\n",
    "        kernel_rbf_2 = GPy.kern.RBF(input_dim=1, lengthscale=0.05, variance=10, active_dims=[1])\n",
    "        kernel_rbf_3 = GPy.kern.RBF(input_dim=1, lengthscale=0.05, variance=10, active_dims=[2])\n",
    "        kernel_rbf_4 = GPy.kern.RBF(input_dim=1, lengthscale=0.05, variance=10, active_dims=[3])\n",
    "        kernel = kernel_rbf_1 + kernel_rbf_2 + kernel_rbf_3 + kernel_rbf_4\n",
    "    model_gpy = GPRegression(X,Y,kernel, noise_var=1) # Train and wrap the model in Emukit\n",
    "    model_emukit = GPyModelWrapper(model_gpy)\n",
    "    return model_emukit"
   ]
  },
  {
   "cell_type": "code",
   "execution_count": 48,
   "id": "6c8200ae-0183-4da5-ba25-4a3e3b604ef7",
   "metadata": {},
   "outputs": [],
   "source": [
    "iterations = 1000\n",
    "# The other mutation rates for the projection\n",
    "projection = 0\n",
    "# Along which trait is the function plotted: 0-size, 1-speed, 2-vision, 3-aggression\n",
    "plot = 0\n",
    "\n",
    "# returns the mean square error history of the iterations\n",
    "def train(modol_emukit, X, Y, iterations = 1000, plot = 0, projection = 0):\n",
    "\n",
    "    space = ParameterSpace([ContinuousParameter('size', 0, 1),\n",
    "                            ContinuousParameter('speed', 0, 1),\n",
    "                            ContinuousParameter('vision', 0, 1),\n",
    "                            ContinuousParameter('aggression', 0, 1)])\n",
    "\n",
    "    ei_acquisition = ExpectedImprovement(model = model_emukit)\n",
    "    nlcb_acquisition = NegativeLowerConfidenceBound(model = model_emukit)\n",
    "    pi_acquisition = ProbabilityOfImprovement(model = model_emukit)\n",
    "    es_acquisition = EntropySearch(model = model_emukit, space = space)\n",
    "\n",
    "    file_path = 'training_logs/plot_' + str(plot) + '_projection_' + str(projection) + '_' + str(datetime.now())\n",
    "    os.makedirs(file_path)\n",
    "    figure, axis = plt.subplots(1, 2, figsize=(20, 6))\n",
    "    x_plot = np.linspace(0, 1, 1000)[:, None]\n",
    "    x_paddings = np.linspace(projection, projection, 1000)[:, None]\n",
    "    x_linear = np.linspace(0, 1, 1000)[:, None]\n",
    "\n",
    "    history = []\n",
    "    with open('dataset_test/mutation_rates.npy', 'rb') as f:\n",
    "      X_test = np.load(f)\n",
    "    with open('dataset_test/simulated_years_of_survival.npy', 'rb') as f:\n",
    "      y_test = np.load(f)\n",
    "    \n",
    "    for i in tqdm(range(iterations)):\n",
    "        for j in range(plot):\n",
    "            x_plot = np.append(x_paddings, x_plot, axis = 1)\n",
    "        for j in range(3-plot):\n",
    "            x_plot = np.append(x_plot, x_paddings, axis = 1)\n",
    "            \n",
    "        mu_plot, var_plot = model_emukit.predict(x_plot)\n",
    "        plot_prediction(X[:,plot],Y,x_linear,mu_plot,var_plot,axis[0])\n",
    "\n",
    "        predictions, _ = model_emukit.predict(X_test)\n",
    "        history.append(np.square(y_test - predictions).mean())\n",
    "        \n",
    "        ei_plot = (\"EI\",ei_acquisition.evaluate(x_plot))\n",
    "        nlcb_plot = (\"NLCB\",nlcb_acquisition.evaluate(x_plot))\n",
    "        pi_plot = (\"PI\",pi_acquisition.evaluate(x_plot))\n",
    "        es_plot = (\"ES\",es_acquisition.evaluate(x_plot))\n",
    "        \n",
    "        optimizer = GradientAcquisitionOptimizer(space)\n",
    "        x_new, _ = optimizer.optimize(es_acquisition)\n",
    "        plot_acquisition_functions(x_linear, [ei_plot,nlcb_plot,pi_plot,es_plot], x_new[0][plot], axis[1])\n",
    "        print(\"Next position to query:\", x_new)\n",
    "        \n",
    "        y_new = target_function_list(x_new)\n",
    "        X = np.append(X, x_new, axis=0)\n",
    "        Y = np.append(Y, y_new, axis=0)\n",
    "        model_emukit.set_data(X, Y)\n",
    "        plt.savefig(file_path + '/' + str(i) +'.png')\n",
    "        plt.clf()\n",
    "        figure, axis = plt.subplots(1, 2, figsize=(20, 6))\n",
    "\n",
    "        with open(file_path + '/history.npy', 'wb') as f:\n",
    "            np.save(f, np.array(history))\n",
    "    return history"
   ]
  },
  {
   "cell_type": "code",
   "execution_count": 60,
   "id": "3af151eb-1aeb-4d81-aad4-0242a479e55e",
   "metadata": {},
   "outputs": [],
   "source": [
    "def sensitivity_2d(X, sensitivity, x_a=0, y_a=1, projection = 0):\n",
    "    results = []\n",
    "    for x in X:\n",
    "        point = np.array([projection, projection, projection, projection])\n",
    "        point[x_a] = x[0]\n",
    "        point[y_a] = x[1]\n",
    "        results.append(sensitivity.compute_statistics(point)[0])\n",
    "    return np.array(results)"
   ]
  },
  {
   "cell_type": "code",
   "execution_count": null,
   "id": "cb75aa8c-aa81-4921-8044-797054f1eb7b",
   "metadata": {},
   "outputs": [],
   "source": [
    "sensitivity = MonteCarloSensitivity(model = model_emukit, input_domain = space)\n",
    "main_effects, total_effects, _ = sensitivity.compute_effects(num_monte_carlo_points = 10000)"
   ]
  },
  {
   "cell_type": "code",
   "execution_count": 69,
   "id": "310ec131-d413-438b-b05b-ce975bea15c8",
   "metadata": {},
   "outputs": [],
   "source": [
    "def plot_sensitivity_2d(model_emukit, x_a=0, y_a=1, projection = 0):\n",
    "    space = ParameterSpace([ContinuousParameter('size', 0, 1),\n",
    "                        ContinuousParameter('speed', 0, 1),\n",
    "                        ContinuousParameter('vision', 0, 1),\n",
    "                        ContinuousParameter('aggression', 0, 1)])\n",
    "    \n",
    "    sensitivity = MonteCarloSensitivity(model = model_emukit, input_domain = space)\n",
    "    main_effects, total_effects, _ = sensitivity.compute_effects(num_monte_carlo_points = 10000)\n",
    "    \n",
    "    x_axis = np.linspace(0, 1, 100)\n",
    "    y_axis = np.linspace(0, 1, 100)\n",
    "    \n",
    "    X_axis,Y_axis = np.meshgrid(x_axis, y_axis)\n",
    "    data = np.vstack([X_axis.ravel(), Y_axis.ravel()])\n",
    "    data = np.swapaxes(data,0,-1)\n",
    "    \n",
    "    plt.figure(figsize=(8,6))\n",
    "    plt.contourf(X_axis, Y_axis, sensitivity_2d(data, sensitivity, x_a, y_a, projection).reshape(X_axis.shape), levels=20)\n",
    "    plt.colorbar()\n",
    "    return main_effects, total_effects"
   ]
  },
  {
   "cell_type": "code",
   "execution_count": 73,
   "id": "30956954-cca3-45fc-b4c3-20a1bb435e22",
   "metadata": {},
   "outputs": [
    {
     "data": {
      "text/plain": [
       "({'size': array([0.25863422]),\n",
       "  'speed': array([0.18488859]),\n",
       "  'vision': array([0.20678061]),\n",
       "  'aggression': array([0.3671574])},\n",
       " {'size': array([0.32035887]),\n",
       "  'speed': array([0.17890642]),\n",
       "  'vision': array([0.1909202]),\n",
       "  'aggression': array([0.31505788])})"
      ]
     },
     "execution_count": 73,
     "metadata": {},
     "output_type": "execute_result"
    },
    {
     "data": {
      "image/png": "[encoded data removed]",
      "text/plain": [
       "<Figure size 800x600 with 2 Axes>"
      ]
     },
     "metadata": {},
     "output_type": "display_data"
    }
   ],
   "source": [
    "plot_sensitivity_2d(model, x_a=0, y_a=1, projection = 0.1)"
   ]
  },
  {
   "cell_type": "code",
   "execution_count": null,
   "id": "3e4c5cda-9d27-4c43-8e03-7254dfcfa1e0",
   "metadata": {},
   "outputs": [],
   "source": [
    "X, Y = experiment_initialisation()\n",
    "model = model_generation(X, Y)\n",
    "train(model, X, Y)"
   ]
  },
  {
   "cell_type": "code",
   "execution_count": 74,
   "id": "ecf0d832-a906-45b8-a640-a18e4021ffe9",
   "metadata": {},
   "outputs": [],
   "source": [
    "file_path = 'training_logs/plot_0_projection_0_2024-01-13 18:55:03.020726'\n",
    "with open(file_path + '/history.npy', 'rb') as f:\n",
    "    history = np.load(f)"
   ]
  },
  {
   "cell_type": "code",
   "execution_count": 76,
   "id": "45bdead6-ef27-42cf-b0c0-67a7b9b82bcd",
   "metadata": {},
   "outputs": [],
   "source": [
    "x = np.array([i for i in range(len(history))])"
   ]
  },
  {
   "cell_type": "code",
   "execution_count": 77,
   "id": "88c020b5-d0c2-437e-ad94-578b79cbaaa8",
   "metadata": {},
   "outputs": [
    {
     "data": {
      "text/plain": [
       "[<matplotlib.lines.Line2D at 0x29c33ab00>]"
      ]
     },
     "execution_count": 77,
     "metadata": {},
     "output_type": "execute_result"
    },
    {
     "data": {
      "image/png": "[encoded data removed]",
      "text/plain": [
       "<Figure size 640x480 with 1 Axes>"
      ]
     },
     "metadata": {},
     "output_type": "display_data"
    }
   ],
   "source": [
    "plt.plot(history)"
   ]
  },
  {
   "cell_type": "code",
   "execution_count": null,
   "id": "afe24c33-1268-484d-a548-30e7cc038365",
   "metadata": {},
   "outputs": [],
   "source": []
  }
 ],
 "metadata": {
  "kernelspec": {
   "display_name": "Python 3 (ipykernel)",
   "language": "python",
   "name": "python3"
  },
  "language_info": {
   "codemirror_mode": {
    "name": "ipython",
    "version": 3
   },
   "file_extension": ".py",
   "mimetype": "text/x-python",
   "name": "python",
   "nbconvert_exporter": "python",
   "pygments_lexer": "ipython3",
   "version": "3.10.13"
  }
 },
 "nbformat": 4,
 "nbformat_minor": 5
}
