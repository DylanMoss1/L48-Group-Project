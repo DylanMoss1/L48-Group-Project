{
 "cells": [
  {
   "cell_type": "code",
   "execution_count": 11,
   "id": "a64a595b-ad7f-423b-b704-c13c246c7c95",
   "metadata": {},
   "outputs": [],
   "source": [
    "from typing import Tuple\n",
    "import numpy as np\n",
    "import deepgp\n",
    "import matplotlib.pyplot as plt\n",
    "from datetime import datetime\n",
    "import os\n",
    "\n",
    "import GPy\n",
    "from GPy.models import GPRegression\n",
    "from emukit.test_functions import forrester_function\n",
    "from emukit.core.initial_designs import RandomDesign\n",
    "from emukit.model_wrappers import GPyModelWrapper\n",
    "from emukit.bayesian_optimization.acquisitions import ExpectedImprovement, NegativeLowerConfidenceBound, ProbabilityOfImprovement, EntropySearch\n",
    "from emukit.core.optimization import GradientAcquisitionOptimizer\n",
    "from emukit.core.initial_designs import RandomDesign\n",
    "from emukit.core import ParameterSpace, ContinuousParameter\n",
    "from emukit.sensitivity.monte_carlo import MonteCarloSensitivity\n",
    "from gpflow.kernels import RBF, White, Linear\n",
    "from tqdm import tqdm\n",
    "\n",
    "from simulator import MainSimulator, TinySimulator\n",
    "from world import DebugInfo\n",
    "from pprint import pprint\n",
    "\n",
    "main_simulator = MainSimulator()"
   ]
  },
  {
   "cell_type": "code",
   "execution_count": 2,
   "id": "652c42c1-0bcb-479a-8c2c-9caedf4d7208",
   "metadata": {},
   "outputs": [],
   "source": [
    "def plot_prediction(X,Y,x_plot,mu_plot,var_plot,axis):\n",
    "    axis.plot(X, Y, \"ro\", markersize=10, label=\"Observations\")\n",
    "    axis.plot(x_plot[:, 0], mu_plot[:, 0], \"C0\", label=\"Model\")\n",
    "    axis.fill_between(x_plot[:, 0],\n",
    "                     mu_plot[:, 0] + np.sqrt(var_plot)[:, 0],\n",
    "                     mu_plot[:, 0] - np.sqrt(var_plot)[:, 0], color=\"C0\", alpha=0.6)\n",
    "    axis.fill_between(x_plot[:, 0],\n",
    "                     mu_plot[:, 0] + 2 * np.sqrt(var_plot)[:, 0],\n",
    "                     mu_plot[:, 0] - 2 * np.sqrt(var_plot)[:, 0], color=\"C0\", alpha=0.4)\n",
    "    axis.fill_between(x_plot[:, 0],\n",
    "                     mu_plot[:, 0] + 3 * np.sqrt(var_plot)[:, 0],\n",
    "                     mu_plot[:, 0] - 3 * np.sqrt(var_plot)[:, 0], color=\"C0\", alpha=0.2)\n",
    "    axis.legend(loc=2, prop={'size': 10})\n",
    "    axis.set(xlabel=r\"$x$\", ylabel=r\"$f(x)$\")\n",
    "    axis.grid(True)"
   ]
  },
  {
   "cell_type": "code",
   "execution_count": 3,
   "id": "4012e313-e4f0-451d-b5f9-0f0c7553ebd3",
   "metadata": {},
   "outputs": [],
   "source": [
    "def plot_acquisition_functions(x_plot, ac_plots, x_new, axis):\n",
    "    for ac_plot in ac_plots:\n",
    "        axis.plot(x_plot, (ac_plot[1] - np.min(ac_plot[1])) / (np.max(ac_plot[1]) - np.min(ac_plot[1])), label=ac_plot[0])\n",
    "    \n",
    "    axis.axvline(x_new, color=\"red\", label=\"x_next\", linestyle=\"--\")\n",
    "    axis.legend(loc=1, prop={'size': 10})\n",
    "    axis.set(xlabel=r\"$x$\", ylabel=r\"$f(x)$\")\n",
    "    axis.grid(True)"
   ]
  },
  {
   "cell_type": "code",
   "execution_count": 4,
   "id": "9e243ed6-1d36-4dcb-b287-d78d5bf521a9",
   "metadata": {},
   "outputs": [],
   "source": [
    "def target_function_list(X, repetition=10):\n",
    "    Y = []\n",
    "    for x in X:\n",
    "        mutation_rates = {\n",
    "            \"size\": x[0],\n",
    "            \"speed\": x[1],\n",
    "            \"vision\": x[2],\n",
    "            \"aggression\": x[3]\n",
    "        }\n",
    "        total = 0\n",
    "        for i in range(repetition):\n",
    "            days_survived, log = main_simulator.run(mutation_rates, debug_info=DebugInfo(\n",
    "                period=10, should_display_day=False, should_display_grid=False, should_display_traits=False), max_days=10000)\n",
    "            total = total + days_survived\n",
    "        Y.append(total//repetition)\n",
    "    return np.array(Y)[:,np.newaxis]"
   ]
  },
  {
   "cell_type": "code",
   "execution_count": null,
   "id": "910c6743-ae0f-48b8-b9bb-5070459829d6",
   "metadata": {},
   "outputs": [],
   "source": [
    "space = ParameterSpace([ContinuousParameter('size', 0, 1),\n",
    "                        ContinuousParameter('speed', 0, 1),\n",
    "                        ContinuousParameter('vision', 0, 1),\n",
    "                        ContinuousParameter('aggression', 0, 1)])\n",
    "design = RandomDesign(space) # Collect random points\n",
    "num_data_points = 5\n",
    "X = design.get_samples(num_data_points)\n",
    "Y = target_function_list(X)"
   ]
  },
  {
   "cell_type": "code",
   "execution_count": 8,
   "id": "d0f1340d-8021-4abf-805a-d5e61136c881",
   "metadata": {},
   "outputs": [],
   "source": [
    "kernel_rbf = GPy.kern.RBF(4, lengthscale=0.05, variance=100)\n",
    "model_gpy = GPRegression(X,Y,kernel_rbf) # Train and wrap the model in Emukit\n",
    "model_emukit = GPyModelWrapper(model_gpy)"
   ]
  },
  {
   "cell_type": "code",
   "execution_count": 12,
   "id": "1e0ca906-2e37-40b3-9057-e926ed1dd898",
   "metadata": {},
   "outputs": [],
   "source": [
    "ei_acquisition = ExpectedImprovement(model = model_emukit)\n",
    "nlcb_acquisition = NegativeLowerConfidenceBound(model = model_emukit)\n",
    "pi_acquisition = ProbabilityOfImprovement(model = model_emukit)\n",
    "es_acquisition = EntropySearch(model = model_emukit, space = space)"
   ]
  },
  {
   "cell_type": "code",
   "execution_count": null,
   "id": "6c8200ae-0183-4da5-ba25-4a3e3b604ef7",
   "metadata": {},
   "outputs": [
    {
     "name": "stderr",
     "output_type": "stream",
     "text": [
      "  0%|                                                                                                                                                                                                                                                                                              | 0/1000 [00:00<?, ?it/s]"
     ]
    }
   ],
   "source": [
    "iterations = 1000\n",
    "# The other mutation rates for the projection\n",
    "projection = 0\n",
    "# Along which trait is the function plotted: 0-size, 1-speed, 2-vision, 3-aggression\n",
    "plot = 0\n",
    "\n",
    "file_path = 'training_logs/plot_' + str(plot) + '_projection_' + str(projection) + '_' + str(datetime.now())\n",
    "os.makedirs(file_path)\n",
    "figure, axis = plt.subplots(1, 2, figsize=(20, 6))\n",
    "x_plot = np.linspace(0, 1, 1000)[:, None]\n",
    "x_paddings = np.linspace(projection, projection, 1000)[:, None]\n",
    "x_linear = np.linspace(0, 1, 1000)[:, None]\n",
    "\n",
    "for i in tqdm(range(iterations)):\n",
    "    for j in range(plot):\n",
    "        x_plot = np.append(x_paddings, x_plot, axis = 1)\n",
    "    for j in range(3-plot):\n",
    "        x_plot = np.append(x_plot, x_paddings, axis = 1)\n",
    "        \n",
    "    mu_plot, var_plot = model_emukit.predict(x_plot)\n",
    "    plot_prediction(X[:,plot],Y,x_linear,mu_plot,var_plot,axis[0])\n",
    "    \n",
    "    ei_plot = (\"EI\",ei_acquisition.evaluate(x_plot))\n",
    "    nlcb_plot = (\"NLCB\",nlcb_acquisition.evaluate(x_plot))\n",
    "    pi_plot = (\"PI\",pi_acquisition.evaluate(x_plot))\n",
    "    es_plot = (\"ES\",es_acquisition.evaluate(x_plot))\n",
    "    \n",
    "    optimizer = GradientAcquisitionOptimizer(ParameterSpace([ContinuousParameter('size', 0, 1),\n",
    "                                                             ContinuousParameter('speed', 0, 1),\n",
    "                                                             ContinuousParameter('vision', 0, 1),\n",
    "                                                             ContinuousParameter('aggression', 0, 1)]))\n",
    "    x_new, _ = optimizer.optimize(es_acquisition)\n",
    "    plot_acquisition_functions(x_linear, [ei_plot,nlcb_plot,pi_plot,es_plot], x_new[0][plot], axis[1])\n",
    "    print(\"Next position to query:\", x_new)\n",
    "    \n",
    "    y_new = target_function_list(x_new)\n",
    "    X = np.append(X, x_new, axis=0)\n",
    "    Y = np.append(Y, y_new, axis=0)\n",
    "    model_emukit.set_data(X, Y)\n",
    "    plt.savefig(file_path + '/' + str(i) +'.png')\n",
    "    plt.clf()\n",
    "    figure, axis = plt.subplots(1, 2, figsize=(20, 6))"
   ]
  },
  {
   "cell_type": "code",
   "execution_count": null,
   "id": "3af151eb-1aeb-4d81-aad4-0242a479e55e",
   "metadata": {},
   "outputs": [],
   "source": [
    "def sensitivity_2d(X,sensitivity):\n",
    "    results = []\n",
    "    for x in X:\n",
    "        results.append(sensitivity.compute_statistics(np.array([x[0],x[1],projection,projection]))[1])\n",
    "    return np.array(results)"
   ]
  },
  {
   "cell_type": "code",
   "execution_count": null,
   "id": "cb75aa8c-aa81-4921-8044-797054f1eb7b",
   "metadata": {},
   "outputs": [],
   "source": [
    "sensitivity = MonteCarloSensitivity(model = model_emukit, input_domain = space)\n",
    "main_effects, total_effects, _ = sensitivity.compute_effects(num_monte_carlo_points = 10000)"
   ]
  },
  {
   "cell_type": "code",
   "execution_count": null,
   "id": "310ec131-d413-438b-b05b-ce975bea15c8",
   "metadata": {},
   "outputs": [],
   "source": [
    "x_axis = np.linspace(0, 10, 100)\n",
    "y_axis = np.linspace(0, 10, 100)\n",
    "\n",
    "X_axis,Y_axis = np.meshgrid(x_axis, y_axis)\n",
    "data = np.vstack([X_axis.ravel(), Y_axis.ravel()])\n",
    "data = np.swapaxes(data,0,-1)\n",
    "\n",
    "plt.figure(figsize=(8,6))\n",
    "plt.contourf(X_axis, Y_axis, sensitivity_2d(data,sensitivity).reshape(X_axis.shape), levels=20)\n",
    "plt.colorbar();"
   ]
  }
 ],
 "metadata": {
  "kernelspec": {
   "display_name": "Python 3 (ipykernel)",
   "language": "python",
   "name": "python3"
  },
  "language_info": {
   "codemirror_mode": {
    "name": "ipython",
    "version": 3
   },
   "file_extension": ".py",
   "mimetype": "text/x-python",
   "name": "python",
   "nbconvert_exporter": "python",
   "pygments_lexer": "ipython3",
   "version": "3.10.13"
  }
 },
 "nbformat": 4,
 "nbformat_minor": 5
}
