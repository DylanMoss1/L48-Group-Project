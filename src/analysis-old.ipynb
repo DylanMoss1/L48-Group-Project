{
 "cells": [
  {
   "cell_type": "code",
   "execution_count": 4,
   "metadata": {},
   "outputs": [],
   "source": [
    "from simulator import TinySimulator, MainSimulator\n",
    "import matplotlib.pyplot as plt\n",
    "import numpy as np\n",
    "import seaborn as sns\n",
    "import pandas as pd\n",
    "import json"
   ]
  },
  {
   "cell_type": "code",
   "execution_count": 166,
   "metadata": {},
   "outputs": [],
   "source": [
    "simulator = MainSimulator()"
   ]
  },
  {
   "cell_type": "code",
   "execution_count": 167,
   "metadata": {},
   "outputs": [],
   "source": [
    "no_mutation_rates = {\n",
    "    \"size\": 0,\n",
    "    \"speed\": 0,\n",
    "    \"vision\": 0,\n",
    "    \"aggression\": 0,\n",
    "}\n",
    "\n",
    "low_mutation_rates = {\n",
    "    \"size\": 0.01,\n",
    "    \"speed\": 0.01,\n",
    "    \"vision\": 0.01,\n",
    "    \"aggression\": 0.01,\n",
    "}\n",
    "\n",
    "high_mutation_rates = {\n",
    "    \"size\": 0.1,\n",
    "    \"speed\": 0.1,\n",
    "    \"vision\": 0.1,\n",
    "    \"aggression\": 0.1,\n",
    "}\n",
    "\n",
    "mutation_rates_list = [no_mutation_rates, low_mutation_rates,\n",
    "                   high_mutation_rates]\n",
    "\n",
    "mutation_rates_labels = [\"No Mutation Rate\", \"Low Mutation Rate\", \"High Mutation Rate\"]"
   ]
  },
  {
   "cell_type": "code",
   "execution_count": 168,
   "metadata": {},
   "outputs": [
    {
     "ename": "",
     "evalue": "",
     "output_type": "error",
     "traceback": [
      "\u001b[1;31mThe Kernel crashed while executing code in the the current cell or a previous cell. Please review the code in the cell(s) to identify a possible cause of the failure. Click <a href='https://aka.ms/vscodeJupyterKernelCrash'>here</a> for more info. View Jupyter <a href='command:jupyter.viewOutput'>log</a> for further details."
     ]
    }
   ],
   "source": [
    "num_iters = 30\n",
    "\n",
    "data = []\n",
    "\n",
    "for mutation_rates in mutation_rates_list:\n",
    "    log_list = []\n",
    "    for i in range(num_iters):\n",
    "        days_survived, log = simulator.run(mutation_rates)\n",
    "        log_list.append(log)\n",
    "    data.append(log_list)"
   ]
  },
  {
   "cell_type": "code",
   "execution_count": null,
   "metadata": {},
   "outputs": [],
   "source": [
    "def get_populations_from_log(log): \n",
    "  populations = [] \n",
    "\n",
    "  for log_item in log: \n",
    "    populations.append(log_item.num_species_alive)\n",
    "  \n",
    "  return populations"
   ]
  },
  {
   "cell_type": "code",
   "execution_count": null,
   "metadata": {},
   "outputs": [],
   "source": [
    "def arrays_from_log_list(log_list):\n",
    "  populations = [get_populations_from_log(log) for log in log_list]\n",
    "  max_length = max(map(len, populations))\n",
    "  population_arr = np.zeros((len(populations), max_length), dtype=int)\n",
    "\n",
    "  for i, row in enumerate(populations):\n",
    "      population_arr[i, :len(row)] = row\n",
    "\n",
    "  x = np.arange(1, max_length + 1)\n",
    "\n",
    "  y = population_arr\n",
    "  y_mean = np.mean(y, axis=0)\n",
    "  y_std = np.std(y, axis=0)\n",
    "  y_std_above = y_mean + y_std \n",
    "  y_std_below = np.clip(y_mean - y_std, a_min=0, a_max=None)\n",
    "\n",
    "  return x, y_mean, y_std_above, y_std_below, populations"
   ]
  },
  {
   "cell_type": "code",
   "execution_count": 1,
   "metadata": {},
   "outputs": [
    {
     "ename": "NameError",
     "evalue": "name 'data' is not defined",
     "output_type": "error",
     "traceback": [
      "\u001b[0;31m---------------------------------------------------------------------------\u001b[0m",
      "\u001b[0;31mNameError\u001b[0m                                 Traceback (most recent call last)",
      "Cell \u001b[0;32mIn[1], line 16\u001b[0m\n\u001b[1;32m     11\u001b[0m     \u001b[38;5;28;01melse\u001b[39;00m:\n\u001b[1;32m     12\u001b[0m         \u001b[38;5;28;01mraise\u001b[39;00m \u001b[38;5;167;01mTypeError\u001b[39;00m(\u001b[38;5;124m\"\u001b[39m\u001b[38;5;124mType not serializable\u001b[39m\u001b[38;5;124m\"\u001b[39m)\n\u001b[1;32m     15\u001b[0m stored_data \u001b[38;5;241m=\u001b[39m [convert_to_list_data_form(\n\u001b[0;32m---> 16\u001b[0m     arrays_from_log_list(log_list)) \u001b[38;5;28;01mfor\u001b[39;00m log_list \u001b[38;5;129;01min\u001b[39;00m \u001b[43mdata\u001b[49m]\n\u001b[1;32m     18\u001b[0m file_path \u001b[38;5;241m=\u001b[39m \u001b[38;5;124m\"\u001b[39m\u001b[38;5;124mdata.json\u001b[39m\u001b[38;5;124m\"\u001b[39m\n\u001b[1;32m     20\u001b[0m \u001b[38;5;28;01mwith\u001b[39;00m \u001b[38;5;28mopen\u001b[39m(file_path, \u001b[38;5;124m'\u001b[39m\u001b[38;5;124mw\u001b[39m\u001b[38;5;124m'\u001b[39m) \u001b[38;5;28;01mas\u001b[39;00m json_file:\n",
      "\u001b[0;31mNameError\u001b[0m: name 'data' is not defined"
     ]
    }
   ],
   "source": [
    "def convert_to_list_data_form(arrays):\n",
    "    x, y_mean, y_std_above, y_std_below, populations = arrays\n",
    "    return list(x), list(y_mean), list(y_std_above), list(y_std_below), list(populations)\n",
    "\n",
    "\n",
    "def convert(obj):\n",
    "    if isinstance(obj, np.int64):\n",
    "        return int(obj)\n",
    "    elif isinstance(obj, np.ndarray):\n",
    "        return obj.tolist()\n",
    "    else:\n",
    "        raise TypeError(\"Type not serializable\")\n",
    "\n",
    "\n",
    "stored_data = [convert_to_list_data_form(\n",
    "    arrays_from_log_list(log_list)) for log_list in data]\n",
    "\n",
    "file_path = \"data.json\"\n",
    "\n",
    "with open(file_path, 'w') as json_file:\n",
    "    json.dump(stored_data, json_file, default=convert)"
   ]
  },
  {
   "cell_type": "code",
   "execution_count": 2,
   "metadata": {},
   "outputs": [
    {
     "ename": "NameError",
     "evalue": "name 'file_path' is not defined",
     "output_type": "error",
     "traceback": [
      "\u001b[0;31m---------------------------------------------------------------------------\u001b[0m",
      "\u001b[0;31mNameError\u001b[0m                                 Traceback (most recent call last)",
      "Cell \u001b[0;32mIn[2], line 1\u001b[0m\n\u001b[0;32m----> 1\u001b[0m \u001b[38;5;28;01mwith\u001b[39;00m \u001b[38;5;28mopen\u001b[39m(\u001b[43mfile_path\u001b[49m, \u001b[38;5;124m'\u001b[39m\u001b[38;5;124mr\u001b[39m\u001b[38;5;124m'\u001b[39m) \u001b[38;5;28;01mas\u001b[39;00m json_file:\n\u001b[1;32m      2\u001b[0m     loaded_data \u001b[38;5;241m=\u001b[39m json\u001b[38;5;241m.\u001b[39mload(json_file)\n\u001b[1;32m      4\u001b[0m data \u001b[38;5;241m=\u001b[39m loaded_data \n",
      "\u001b[0;31mNameError\u001b[0m: name 'file_path' is not defined"
     ]
    }
   ],
   "source": [
    "with open(file_path, 'r') as json_file:\n",
    "    loaded_data = json.load(json_file)\n",
    "\n",
    "data = loaded_data "
   ]
  },
  {
   "cell_type": "code",
   "execution_count": 3,
   "metadata": {},
   "outputs": [
    {
     "ename": "NameError",
     "evalue": "name 'plt' is not defined",
     "output_type": "error",
     "traceback": [
      "\u001b[0;31m---------------------------------------------------------------------------\u001b[0m",
      "\u001b[0;31mNameError\u001b[0m                                 Traceback (most recent call last)",
      "Cell \u001b[0;32mIn[3], line 1\u001b[0m\n\u001b[0;32m----> 1\u001b[0m fig \u001b[38;5;241m=\u001b[39m \u001b[43mplt\u001b[49m\u001b[38;5;241m.\u001b[39mfigure()\n\u001b[1;32m      2\u001b[0m ax \u001b[38;5;241m=\u001b[39m fig\u001b[38;5;241m.\u001b[39madd_subplot(\u001b[38;5;241m111\u001b[39m)\n\u001b[1;32m      4\u001b[0m tableau_colors \u001b[38;5;241m=\u001b[39m plt\u001b[38;5;241m.\u001b[39mrcParams[\u001b[38;5;124m'\u001b[39m\u001b[38;5;124maxes.prop_cycle\u001b[39m\u001b[38;5;124m'\u001b[39m]\u001b[38;5;241m.\u001b[39mby_key()[\u001b[38;5;124m'\u001b[39m\u001b[38;5;124mcolor\u001b[39m\u001b[38;5;124m'\u001b[39m]\n",
      "\u001b[0;31mNameError\u001b[0m: name 'plt' is not defined"
     ]
    }
   ],
   "source": [
    "fig = plt.figure()\n",
    "ax = fig.add_subplot(111)\n",
    "\n",
    "tableau_colors = plt.rcParams['axes.prop_cycle'].by_key()['color']\n",
    "\n",
    "for index, data_item in enumerate(data): \n",
    "  x, y_mean, y_std_above, y_std_below, _ = data_item\n",
    "\n",
    "  ax.plot(x, y_mean, color=tableau_colors[index], label=mutation_rates_labels[index])\n",
    "  ax.fill_between(x, y_std_above, y_std_below, color=tableau_colors[index], alpha=0.2)\n",
    "\n",
    "ax.legend()"
   ]
  },
  {
   "cell_type": "code",
   "execution_count": null,
   "metadata": {},
   "outputs": [],
   "source": [
    "def surivial_times_from_log_list(data_item):\n",
    "  _, _, _, _, populations = data_item\n",
    "  surivial_times = np.array([len(population) for population in populations])\n",
    "  return surivial_times\n",
    "\n",
    "y = []\n",
    "\n",
    "for data_item in data: \n",
    "  surivial_times = surivial_times_from_log_list(data_item)\n",
    "  y.append(surivial_times)"
   ]
  },
  {
   "cell_type": "code",
   "execution_count": null,
   "metadata": {},
   "outputs": [
    {
     "data": {
      "image/png": "[encoded data removed]",
      "text/plain": [
       "<Figure size 640x480 with 1 Axes>"
      ]
     },
     "metadata": {},
     "output_type": "display_data"
    }
   ],
   "source": [
    "sns.set(style=\"whitegrid\")\n",
    "tips = sns.load_dataset(\"tips\")\n",
    "\n",
    "sns_data = {mutation_rates_labels[i]: y[i] for i in range(3)}\n",
    "\n",
    "df = pd.DataFrame(sns_data)\n",
    "ax = sns.boxplot(data=df, showfliers=False, palette=tableau_colors[:len(y)])\n",
    "ax = sns.swarmplot(data=df, color=\".25\", size=3.5)\n",
    "plt.show()"
   ]
  }
 ],
 "metadata": {
  "kernelspec": {
   "display_name": "venv",
   "language": "python",
   "name": "python3"
  },
  "language_info": {
   "codemirror_mode": {
    "name": "ipython",
    "version": 3
   },
   "file_extension": ".py",
   "mimetype": "text/x-python",
   "name": "python",
   "nbconvert_exporter": "python",
   "pygments_lexer": "ipython3",
   "version": "3.10.11"
  }
 },
 "nbformat": 4,
 "nbformat_minor": 2
}
